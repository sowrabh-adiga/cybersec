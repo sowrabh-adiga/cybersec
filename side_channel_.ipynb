{
  "nbformat": 4,
  "nbformat_minor": 0,
  "metadata": {
    "colab": {
      "provenance": [],
      "authorship_tag": "ABX9TyOj5+eUMPAKCjBaSBQy3M4r",
      "include_colab_link": true
    },
    "kernelspec": {
      "name": "python3",
      "display_name": "Python 3"
    },
    "language_info": {
      "name": "python"
    }
  },
  "cells": [
    {
      "cell_type": "markdown",
      "metadata": {
        "id": "view-in-github",
        "colab_type": "text"
      },
      "source": [
        "<a href=\"https://colab.research.google.com/github/sowrabh-adiga/cybersec/blob/main/side_channel_.ipynb\" target=\"_parent\"><img src=\"https://colab.research.google.com/assets/colab-badge.svg\" alt=\"Open In Colab\"/></a>"
      ]
    },
    {
      "cell_type": "code",
      "execution_count": 1,
      "metadata": {
        "id": "oCc-UkeytcBH"
      },
      "outputs": [],
      "source": [
        "import time\n",
        "import matplotlib.pyplot as plt\n",
        "import numpy as np\n",
        "from tqdm import tqdm\n",
        "from collections import Counter"
      ]
    },
    {
      "cell_type": "code",
      "source": [
        "# The vulnerable password check function, this cell is assumed to be a external site we are trying to access\n",
        "password = \"9875\"\n",
        "\n",
        "def unlock(key):\n",
        "    \"\"\"\n",
        "    Simulates a password verification process vulnerable to timing attacks.\n",
        "    \"\"\"\n",
        "    if len(key) != len(password):\n",
        "        return False\n",
        "\n",
        "    for i in range(len(key)):\n",
        "        if key[i] == password[i]:\n",
        "            continue\n",
        "        else:\n",
        "            return False\n",
        "    return True"
      ],
      "metadata": {
        "id": "oP8k3L2it0WH"
      },
      "execution_count": 2,
      "outputs": []
    },
    {
      "cell_type": "code",
      "source": [
        "# Function to run a single digit simulation and return the best guess\n",
        "# first try with mean resulted im outliers swinging the results very frquently\n",
        "# just median also swings values but less frequent as compared to mean\n",
        "# in this approch I combined the median with max occurance in estimates (not mode)\n",
        "# first find median delay for 10 combinations, 10 times and find the max number of times a number has come up in the 10 times simulation\n",
        "def run_single_simulation(numTrials, passwordLen):\n",
        "    \"\"\"Runs a single timing simulation and returns the most likely first digit based on median time.\n",
        "\n",
        "    Median selected as metric to rule out any outliers due to network or execution latency\"\"\"\n",
        "    medianTimes = {}\n",
        "\n",
        "    for firstDigit in range(10):\n",
        "        testKey = str(firstDigit) + \"0\" * (passwordLen - 1)\n",
        "        trialTimes = []\n",
        "\n",
        "        # Using tqdm for a progress bar for each set of trials\n",
        "        for _ in tqdm(range(numTrials), desc=f\"Testing '{testKey}'\"):\n",
        "            startTime = time.perf_counter()\n",
        "            unlock(testKey)\n",
        "            endTime = time.perf_counter()\n",
        "            trialTimes.append(endTime - startTime)\n",
        "\n",
        "        medianTimes[testKey] = np.median(trialTimes)\n",
        "\n",
        "    # Find the key with the highest median time for this run\n",
        "    estimatedKey = max(medianTimes, key=medianTimes.get)\n",
        "    return estimatedKey[0] # Return just the digit\n",
        "\n",
        "# 3. The main \"best_estimate-experiment\" loop\n",
        "numTrials = 500000\n",
        "bestEstimateRuns = 10\n",
        "allGuesses = []\n",
        "\n",
        "print(f\"Starting best-estimate-experiment: {bestEstimateRuns} runs, each with {numTrials} trials.\")\n",
        "print(\"The final result will be the most common guess across all runs.\\n\")\n",
        "\n",
        "for i in range(bestEstimateRuns):\n",
        "    print(f\"--- Running Best_Estimate-Experiment Iteration {i + 1}/{bestEstimateRuns} ---\")\n",
        "    bestGuess = run_single_simulation(numTrials, len(password))\n",
        "    allGuesses.append(bestGuess)\n",
        "    print(f\"Iteration {i + 1} best guess: {bestGuess}\\n\")\n",
        "\n",
        "# 4. Analyze the results from all the runs\n",
        "guessCounts = Counter(allGuesses)\n",
        "mostCommonGuess = guessCounts.most_common(1)[0][0]\n",
        "\n",
        "print(\"--- Final Results ---\")\n",
        "print(\"All guesses from the best--experiment:\", allGuesses)\n",
        "print(\"Frequency of guesses:\", guessCounts)\n",
        "print(f\"\\nThe most frequent guess across all {bestEstimateRuns} runs is: '{mostCommonGuess}'\")\n",
        "print(f\"The actual first digit of the password is: '{password[0]}'\")\n",
        "\n",
        "# Optional: Plotting the frequency of the guesses\n",
        "labels, values = zip(*guessCounts.items())\n",
        "indexes = np.arange(len(labels))\n",
        "width = 0.5\n",
        "\n",
        "plt.figure(figsize=(8, 5))\n",
        "plt.bar(indexes, values, width, color='purple')\n",
        "plt.xticks(indexes, labels)\n",
        "plt.xlabel('Guessed First Digit')\n",
        "plt.ylabel('Frequency (Number of Times Guessed)')\n",
        "plt.title(f'Results of Timing Attack Over {bestEstimateRuns} Runs')\n",
        "plt.grid(axis='y', linestyle='--', alpha=0.7)\n",
        "plt.show()"
      ],
      "metadata": {
        "colab": {
          "base_uri": "https://localhost:8080/",
          "height": 1000
        },
        "id": "LxqFcflFuM3j",
        "outputId": "c1c6dd42-298d-4977-9a24-9a42a4bef166"
      },
      "execution_count": 3,
      "outputs": [
        {
          "output_type": "stream",
          "name": "stdout",
          "text": [
            "Starting best-estimate-experiment: 10 runs, each with 500000 trials.\n",
            "The final result will be the most common guess across all runs.\n",
            "\n",
            "--- Running Best_Estimate-Experiment Iteration 1/10 ---\n"
          ]
        },
        {
          "output_type": "stream",
          "name": "stderr",
          "text": [
            "Testing '0000': 100%|██████████| 500000/500000 [00:00<00:00, 1290768.75it/s]\n",
            "Testing '1000': 100%|██████████| 500000/500000 [00:00<00:00, 1076320.86it/s]\n",
            "Testing '2000': 100%|██████████| 500000/500000 [00:00<00:00, 645627.37it/s]\n",
            "Testing '3000': 100%|██████████| 500000/500000 [00:00<00:00, 1355897.66it/s]\n",
            "Testing '4000': 100%|██████████| 500000/500000 [00:00<00:00, 564205.24it/s]\n",
            "Testing '5000': 100%|██████████| 500000/500000 [00:00<00:00, 584602.95it/s]\n",
            "Testing '6000': 100%|██████████| 500000/500000 [00:01<00:00, 494564.08it/s]\n",
            "Testing '7000': 100%|██████████| 500000/500000 [00:00<00:00, 897842.59it/s] \n",
            "Testing '8000': 100%|██████████| 500000/500000 [00:00<00:00, 1351341.32it/s]\n",
            "Testing '9000': 100%|██████████| 500000/500000 [00:00<00:00, 1207924.84it/s]\n"
          ]
        },
        {
          "output_type": "stream",
          "name": "stdout",
          "text": [
            "Iteration 1 best guess: 5\n",
            "\n",
            "--- Running Best_Estimate-Experiment Iteration 2/10 ---\n"
          ]
        },
        {
          "output_type": "stream",
          "name": "stderr",
          "text": [
            "Testing '0000': 100%|██████████| 500000/500000 [00:00<00:00, 1320636.33it/s]\n",
            "Testing '1000': 100%|██████████| 500000/500000 [00:00<00:00, 1289475.88it/s]\n",
            "Testing '2000': 100%|██████████| 500000/500000 [00:00<00:00, 943817.03it/s]\n",
            "Testing '3000': 100%|██████████| 500000/500000 [00:00<00:00, 802170.18it/s]\n",
            "Testing '4000': 100%|██████████| 500000/500000 [00:00<00:00, 847244.45it/s]\n",
            "Testing '5000': 100%|██████████| 500000/500000 [00:00<00:00, 706788.11it/s]\n",
            "Testing '6000': 100%|██████████| 500000/500000 [00:00<00:00, 695317.05it/s]\n",
            "Testing '7000': 100%|██████████| 500000/500000 [00:00<00:00, 735041.74it/s]\n",
            "Testing '8000': 100%|██████████| 500000/500000 [00:00<00:00, 920514.08it/s]\n",
            "Testing '9000': 100%|██████████| 500000/500000 [00:00<00:00, 1226112.85it/s]\n"
          ]
        },
        {
          "output_type": "stream",
          "name": "stdout",
          "text": [
            "Iteration 2 best guess: 7\n",
            "\n",
            "--- Running Best_Estimate-Experiment Iteration 3/10 ---\n"
          ]
        },
        {
          "output_type": "stream",
          "name": "stderr",
          "text": [
            "Testing '0000': 100%|██████████| 500000/500000 [00:00<00:00, 1387617.42it/s]\n",
            "Testing '1000': 100%|██████████| 500000/500000 [00:00<00:00, 1387510.01it/s]\n",
            "Testing '2000': 100%|██████████| 500000/500000 [00:00<00:00, 1317866.13it/s]\n",
            "Testing '3000': 100%|██████████| 500000/500000 [00:00<00:00, 1352794.44it/s]\n",
            "Testing '4000': 100%|██████████| 500000/500000 [00:00<00:00, 1300998.29it/s]\n",
            "Testing '5000': 100%|██████████| 500000/500000 [00:00<00:00, 1363252.95it/s]\n",
            "Testing '6000': 100%|██████████| 500000/500000 [00:00<00:00, 1339181.80it/s]\n",
            "Testing '7000': 100%|██████████| 500000/500000 [00:00<00:00, 1343087.57it/s]\n",
            "Testing '8000': 100%|██████████| 500000/500000 [00:00<00:00, 1394483.11it/s]\n",
            "Testing '9000': 100%|██████████| 500000/500000 [00:00<00:00, 1228029.12it/s]\n"
          ]
        },
        {
          "output_type": "stream",
          "name": "stdout",
          "text": [
            "Iteration 3 best guess: 9\n",
            "\n",
            "--- Running Best_Estimate-Experiment Iteration 4/10 ---\n"
          ]
        },
        {
          "output_type": "stream",
          "name": "stderr",
          "text": [
            "Testing '0000': 100%|██████████| 500000/500000 [00:00<00:00, 1331620.62it/s]\n",
            "Testing '1000': 100%|██████████| 500000/500000 [00:00<00:00, 1375725.61it/s]\n",
            "Testing '2000': 100%|██████████| 500000/500000 [00:00<00:00, 1375130.24it/s]\n",
            "Testing '3000': 100%|██████████| 500000/500000 [00:00<00:00, 1373635.96it/s]\n",
            "Testing '4000': 100%|██████████| 500000/500000 [00:00<00:00, 1335850.69it/s]\n",
            "Testing '5000': 100%|██████████| 500000/500000 [00:00<00:00, 1395564.20it/s]\n",
            "Testing '6000': 100%|██████████| 500000/500000 [00:00<00:00, 1373620.67it/s]\n",
            "Testing '7000': 100%|██████████| 500000/500000 [00:00<00:00, 1365289.78it/s]\n",
            "Testing '8000': 100%|██████████| 500000/500000 [00:00<00:00, 1341667.23it/s]\n",
            "Testing '9000': 100%|██████████| 500000/500000 [00:00<00:00, 1117109.55it/s]\n"
          ]
        },
        {
          "output_type": "stream",
          "name": "stdout",
          "text": [
            "Iteration 4 best guess: 9\n",
            "\n",
            "--- Running Best_Estimate-Experiment Iteration 5/10 ---\n"
          ]
        },
        {
          "output_type": "stream",
          "name": "stderr",
          "text": [
            "Testing '0000': 100%|██████████| 500000/500000 [00:00<00:00, 788891.76it/s]\n",
            "Testing '1000': 100%|██████████| 500000/500000 [00:00<00:00, 794353.49it/s]\n",
            "Testing '2000': 100%|██████████| 500000/500000 [00:00<00:00, 809438.36it/s]\n",
            "Testing '3000': 100%|██████████| 500000/500000 [00:00<00:00, 871525.22it/s]\n",
            "Testing '4000': 100%|██████████| 500000/500000 [00:00<00:00, 1316480.42it/s]\n",
            "Testing '5000': 100%|██████████| 500000/500000 [00:00<00:00, 1362625.82it/s]\n",
            "Testing '6000': 100%|██████████| 500000/500000 [00:00<00:00, 1310630.71it/s]\n",
            "Testing '7000': 100%|██████████| 500000/500000 [00:00<00:00, 1357387.84it/s]\n",
            "Testing '8000': 100%|██████████| 500000/500000 [00:00<00:00, 1378134.01it/s]\n",
            "Testing '9000': 100%|██████████| 500000/500000 [00:00<00:00, 1201361.56it/s]\n"
          ]
        },
        {
          "output_type": "stream",
          "name": "stdout",
          "text": [
            "Iteration 5 best guess: 0\n",
            "\n",
            "--- Running Best_Estimate-Experiment Iteration 6/10 ---\n"
          ]
        },
        {
          "output_type": "stream",
          "name": "stderr",
          "text": [
            "Testing '0000': 100%|██████████| 500000/500000 [00:00<00:00, 1361005.76it/s]\n",
            "Testing '1000': 100%|██████████| 500000/500000 [00:00<00:00, 1306779.24it/s]\n",
            "Testing '2000': 100%|██████████| 500000/500000 [00:00<00:00, 1337291.14it/s]\n",
            "Testing '3000': 100%|██████████| 500000/500000 [00:00<00:00, 1326708.50it/s]\n",
            "Testing '4000': 100%|██████████| 500000/500000 [00:00<00:00, 1386636.62it/s]\n",
            "Testing '5000': 100%|██████████| 500000/500000 [00:00<00:00, 1348505.98it/s]\n",
            "Testing '6000': 100%|██████████| 500000/500000 [00:00<00:00, 1297532.21it/s]\n",
            "Testing '7000': 100%|██████████| 500000/500000 [00:00<00:00, 1369557.92it/s]\n",
            "Testing '8000': 100%|██████████| 500000/500000 [00:00<00:00, 1300574.70it/s]\n",
            "Testing '9000': 100%|██████████| 500000/500000 [00:00<00:00, 1208044.52it/s]\n"
          ]
        },
        {
          "output_type": "stream",
          "name": "stdout",
          "text": [
            "Iteration 6 best guess: 9\n",
            "\n",
            "--- Running Best_Estimate-Experiment Iteration 7/10 ---\n"
          ]
        },
        {
          "output_type": "stream",
          "name": "stderr",
          "text": [
            "Testing '0000': 100%|██████████| 500000/500000 [00:00<00:00, 1371385.82it/s]\n",
            "Testing '1000': 100%|██████████| 500000/500000 [00:00<00:00, 1325149.22it/s]\n",
            "Testing '2000': 100%|██████████| 500000/500000 [00:00<00:00, 1360180.41it/s]\n",
            "Testing '3000': 100%|██████████| 500000/500000 [00:00<00:00, 1304702.87it/s]\n",
            "Testing '4000': 100%|██████████| 500000/500000 [00:00<00:00, 1363742.30it/s]\n",
            "Testing '5000': 100%|██████████| 500000/500000 [00:00<00:00, 1359932.56it/s]\n",
            "Testing '6000': 100%|██████████| 500000/500000 [00:00<00:00, 1281757.88it/s]\n",
            "Testing '7000': 100%|██████████| 500000/500000 [00:00<00:00, 834032.42it/s]\n",
            "Testing '8000': 100%|██████████| 500000/500000 [00:00<00:00, 802157.90it/s]\n",
            "Testing '9000': 100%|██████████| 500000/500000 [00:00<00:00, 753898.54it/s]\n"
          ]
        },
        {
          "output_type": "stream",
          "name": "stdout",
          "text": [
            "Iteration 7 best guess: 9\n",
            "\n",
            "--- Running Best_Estimate-Experiment Iteration 8/10 ---\n"
          ]
        },
        {
          "output_type": "stream",
          "name": "stderr",
          "text": [
            "Testing '0000': 100%|██████████| 500000/500000 [00:00<00:00, 790912.82it/s]\n",
            "Testing '1000': 100%|██████████| 500000/500000 [00:00<00:00, 1356049.34it/s]\n",
            "Testing '2000': 100%|██████████| 500000/500000 [00:00<00:00, 1370061.65it/s]\n",
            "Testing '3000': 100%|██████████| 500000/500000 [00:00<00:00, 1327115.68it/s]\n",
            "Testing '4000': 100%|██████████| 500000/500000 [00:00<00:00, 1358158.79it/s]\n",
            "Testing '5000': 100%|██████████| 500000/500000 [00:00<00:00, 1295136.27it/s]\n",
            "Testing '6000': 100%|██████████| 500000/500000 [00:00<00:00, 1360364.81it/s]\n",
            "Testing '7000': 100%|██████████| 500000/500000 [00:00<00:00, 1356909.19it/s]\n",
            "Testing '8000': 100%|██████████| 500000/500000 [00:00<00:00, 1307780.76it/s]\n",
            "Testing '9000': 100%|██████████| 500000/500000 [00:00<00:00, 1217679.40it/s]\n"
          ]
        },
        {
          "output_type": "stream",
          "name": "stdout",
          "text": [
            "Iteration 8 best guess: 0\n",
            "\n",
            "--- Running Best_Estimate-Experiment Iteration 9/10 ---\n"
          ]
        },
        {
          "output_type": "stream",
          "name": "stderr",
          "text": [
            "Testing '0000': 100%|██████████| 500000/500000 [00:00<00:00, 1306761.33it/s]\n",
            "Testing '1000': 100%|██████████| 500000/500000 [00:00<00:00, 1210078.53it/s]\n",
            "Testing '2000': 100%|██████████| 500000/500000 [00:00<00:00, 1358926.21it/s]\n",
            "Testing '3000': 100%|██████████| 500000/500000 [00:00<00:00, 1294536.67it/s]\n",
            "Testing '4000': 100%|██████████| 500000/500000 [00:00<00:00, 1375529.81it/s]\n",
            "Testing '5000': 100%|██████████| 500000/500000 [00:00<00:00, 1342522.68it/s]\n",
            "Testing '6000': 100%|██████████| 500000/500000 [00:00<00:00, 1366534.39it/s]\n",
            "Testing '7000': 100%|██████████| 500000/500000 [00:00<00:00, 1385720.38it/s]\n",
            "Testing '8000': 100%|██████████| 500000/500000 [00:00<00:00, 1393517.59it/s]\n",
            "Testing '9000': 100%|██████████| 500000/500000 [00:00<00:00, 1240295.99it/s]\n"
          ]
        },
        {
          "output_type": "stream",
          "name": "stdout",
          "text": [
            "Iteration 9 best guess: 9\n",
            "\n",
            "--- Running Best_Estimate-Experiment Iteration 10/10 ---\n"
          ]
        },
        {
          "output_type": "stream",
          "name": "stderr",
          "text": [
            "Testing '0000': 100%|██████████| 500000/500000 [00:00<00:00, 1322417.61it/s]\n",
            "Testing '1000': 100%|██████████| 500000/500000 [00:00<00:00, 1377308.57it/s]\n",
            "Testing '2000': 100%|██████████| 500000/500000 [00:00<00:00, 1276598.90it/s]\n",
            "Testing '3000': 100%|██████████| 500000/500000 [00:00<00:00, 1347603.05it/s]\n",
            "Testing '4000': 100%|██████████| 500000/500000 [00:00<00:00, 918497.47it/s]\n",
            "Testing '5000': 100%|██████████| 500000/500000 [00:00<00:00, 784443.63it/s]\n",
            "Testing '6000': 100%|██████████| 500000/500000 [00:00<00:00, 758558.85it/s]\n",
            "Testing '7000': 100%|██████████| 500000/500000 [00:00<00:00, 806156.64it/s]\n",
            "Testing '8000': 100%|██████████| 500000/500000 [00:00<00:00, 1244226.96it/s]\n",
            "Testing '9000': 100%|██████████| 500000/500000 [00:00<00:00, 1241436.22it/s]\n"
          ]
        },
        {
          "output_type": "stream",
          "name": "stdout",
          "text": [
            "Iteration 10 best guess: 5\n",
            "\n",
            "--- Final Results ---\n",
            "All guesses from the best--experiment: ['5', '7', '9', '9', '0', '9', '9', '0', '9', '5']\n",
            "Frequency of guesses: Counter({'9': 5, '5': 2, '0': 2, '7': 1})\n",
            "\n",
            "The most frequent guess across all 10 runs is: '9'\n",
            "The actual first digit of the password is: '9'\n"
          ]
        },
        {
          "output_type": "display_data",
          "data": {
            "text/plain": [
              "<Figure size 800x500 with 1 Axes>"
            ],
            "image/png": "[encoded data removed]"
          },
          "metadata": {}
        }
      ]
    },
    {
      "cell_type": "code",
      "source": [
        "# Function to run a full simulation for all digit position\n",
        "def find_next_digit(prefix, numTrials, passwordLen):\n",
        "    \"\"\"\n",
        "    Runs a simulation to find the next correct digit given a prefix.\n",
        "    Returns the most likely digit based on the meta-experiment.\n",
        "    \"\"\"\n",
        "    allGuesses = []\n",
        "    bestEstimateRuns = 10 # Number of times to repeat the experiment\n",
        "\n",
        "    print(f\"\\n--- Attacking Position {len(prefix) + 1} (prefix: '{prefix}') ---\")\n",
        "\n",
        "    for i in range(bestEstimateRuns):\n",
        "        medianTimes = {}\n",
        "        for guessDigit in range(10):\n",
        "            # Construct the key: use the found prefix, the current guess, and pad the rest with '0'\n",
        "            testKey = prefix + str(guessDigit) + \"0\" * (passwordLen - (len(prefix) + 1))\n",
        "\n",
        "            trialTimes = []\n",
        "            for _ in tqdm(range(numTrials), desc=f\"Testing '{testKey}'\"):\n",
        "                startTime = time.perf_counter_ns()\n",
        "                unlock(testKey)\n",
        "                endTime = time.perf_counter_ns()\n",
        "                trialTimes.append(endTime - startTime)\n",
        "\n",
        "            medianTimes[guessDigit] = np.median(trialTimes)\n",
        "        # Find the key with the highest median time for this single run\n",
        "        print(medianTimes)\n",
        "        if len(prefix) < passwordLen -1:\n",
        "          estimatedKey = max(medianTimes, key=medianTimes.get)\n",
        "        else:\n",
        "          estimatedKey = min(medianTimes, key=medianTimes.get)\n",
        "        allGuesses.append(estimatedKey)\n",
        "\n",
        "    # The above logic assumes that for all position other than last one the delay will be large and the delay will be smallest for last digit\n",
        "    # Use Counter to find the most frequent guess across all meta-runs\n",
        "    guessCounts = Counter(allGuesses)\n",
        "    finalGuess = guessCounts.most_common(1)[0][0]\n",
        "    print(allGuesses)\n",
        "    print(guessCounts)\n",
        "    print(f\"Most likely digit is: '{finalGuess}'\")\n",
        "\n",
        "    return str(finalGuess)\n",
        "\n",
        "# Function for sending in each key element for the simulation function\n",
        "def find_full_password(passwordToCrack, numTrialsPerRun):\n",
        "    foundPassword = \"\"\n",
        "    passwordLen = len(passwordToCrack)\n",
        "\n",
        "    print(\"Beginning timing side-channel attack to find the full password...\")\n",
        "\n",
        "    for _ in range(passwordLen):\n",
        "        nextDigit = find_next_digit(foundPassword, numTrialsPerRun, passwordLen)\n",
        "        foundPassword += nextDigit\n",
        "        print(f\"Password so far: '{foundPassword}'\")\n",
        "\n",
        "    return foundPassword\n",
        "\n",
        "# Main body\n",
        "if __name__ == \"__main__\":\n",
        "    numTrialsPerRUN = 100000 # A reasonable number for demonstration for full-scale sweep\n",
        "    guessedPassword = find_full_password(password, numTrialsPerRUN)\n",
        "    if len(guessedPassword) == len(password):\n",
        "      print(\"\\n--- ATTACK SUCCESSFUL ---\")\n",
        "    else:\n",
        "      print(\"Attack failed\")\n",
        "    print(f\"The guessed password is: '{guessedPassword}'\")\n",
        "    print(f\"The actual password is: '{password}'\")"
      ],
      "metadata": {
        "colab": {
          "base_uri": "https://localhost:8080/"
        },
        "id": "Q_IgSjzgmkaO",
        "outputId": "d6f40fd8-d464-4213-e539-089dc8abeb89"
      },
      "execution_count": 21,
      "outputs": [
        {
          "output_type": "stream",
          "name": "stdout",
          "text": [
            "Beginning timing side-channel attack to find the full password...\n",
            "\n",
            "--- Attacking Position 1 (prefix: '') ---\n"
          ]
        },
        {
          "output_type": "stream",
          "name": "stderr",
          "text": [
            "Testing '0000': 100%|██████████| 100000/100000 [00:00<00:00, 1228459.29it/s]\n",
            "Testing '1000': 100%|██████████| 100000/100000 [00:00<00:00, 1247432.30it/s]\n",
            "Testing '2000': 100%|██████████| 100000/100000 [00:00<00:00, 1248464.54it/s]\n",
            "Testing '3000': 100%|██████████| 100000/100000 [00:00<00:00, 1062083.04it/s]\n",
            "Testing '4000': 100%|██████████| 100000/100000 [00:00<00:00, 1226203.90it/s]\n",
            "Testing '5000': 100%|██████████| 100000/100000 [00:00<00:00, 1201871.74it/s]\n",
            "Testing '6000': 100%|██████████| 100000/100000 [00:00<00:00, 1199236.02it/s]\n",
            "Testing '7000': 100%|██████████| 100000/100000 [00:00<00:00, 1253344.25it/s]\n",
            "Testing '8000': 100%|██████████| 100000/100000 [00:00<00:00, 1206389.89it/s]\n",
            "Testing '9000': 100%|██████████| 100000/100000 [00:00<00:00, 1133375.13it/s]\n"
          ]
        },
        {
          "output_type": "stream",
          "name": "stdout",
          "text": [
            "{0: np.float64(386.0), 1: np.float64(380.0), 2: np.float64(389.0), 3: np.float64(391.0), 4: np.float64(390.0), 5: np.float64(387.0), 6: np.float64(391.0), 7: np.float64(383.0), 8: np.float64(380.0), 9: np.float64(443.0)}\n"
          ]
        },
        {
          "output_type": "stream",
          "name": "stderr",
          "text": [
            "Testing '0000': 100%|██████████| 100000/100000 [00:00<00:00, 1227909.05it/s]\n",
            "Testing '1000': 100%|██████████| 100000/100000 [00:00<00:00, 1270820.22it/s]\n",
            "Testing '2000': 100%|██████████| 100000/100000 [00:00<00:00, 1207713.37it/s]\n",
            "Testing '3000': 100%|██████████| 100000/100000 [00:00<00:00, 737523.58it/s]\n",
            "Testing '4000': 100%|██████████| 100000/100000 [00:00<00:00, 734893.89it/s]\n",
            "Testing '5000': 100%|██████████| 100000/100000 [00:00<00:00, 731501.28it/s]\n",
            "Testing '6000': 100%|██████████| 100000/100000 [00:00<00:00, 759394.70it/s]\n",
            "Testing '7000': 100%|██████████| 100000/100000 [00:00<00:00, 729323.68it/s]\n",
            "Testing '8000': 100%|██████████| 100000/100000 [00:00<00:00, 706487.63it/s]\n",
            "Testing '9000': 100%|██████████| 100000/100000 [00:00<00:00, 644348.69it/s]\n"
          ]
        },
        {
          "output_type": "stream",
          "name": "stdout",
          "text": [
            "{0: np.float64(386.0), 1: np.float64(390.0), 2: np.float64(380.0), 3: np.float64(650.0), 4: np.float64(674.0), 5: np.float64(690.0), 6: np.float64(660.0), 7: np.float64(697.0), 8: np.float64(699.0), 9: np.float64(816.0)}\n"
          ]
        },
        {
          "output_type": "stream",
          "name": "stderr",
          "text": [
            "Testing '0000': 100%|██████████| 100000/100000 [00:00<00:00, 720032.41it/s]\n",
            "Testing '1000': 100%|██████████| 100000/100000 [00:00<00:00, 752275.41it/s]\n",
            "Testing '2000': 100%|██████████| 100000/100000 [00:00<00:00, 756921.07it/s]\n",
            "Testing '3000': 100%|██████████| 100000/100000 [00:00<00:00, 729586.28it/s]\n",
            "Testing '4000': 100%|██████████| 100000/100000 [00:00<00:00, 738656.18it/s]\n",
            "Testing '5000': 100%|██████████| 100000/100000 [00:00<00:00, 691500.63it/s]\n",
            "Testing '6000': 100%|██████████| 100000/100000 [00:00<00:00, 703711.58it/s]\n",
            "Testing '7000': 100%|██████████| 100000/100000 [00:00<00:00, 649196.69it/s]\n",
            "Testing '8000': 100%|██████████| 100000/100000 [00:00<00:00, 706306.79it/s]\n",
            "Testing '9000': 100%|██████████| 100000/100000 [00:00<00:00, 654606.18it/s]\n"
          ]
        },
        {
          "output_type": "stream",
          "name": "stdout",
          "text": [
            "{0: np.float64(680.0), 1: np.float64(668.0), 2: np.float64(667.0), 3: np.float64(655.0), 4: np.float64(680.0), 5: np.float64(634.0), 6: np.float64(674.0), 7: np.float64(646.0), 8: np.float64(650.0), 9: np.float64(736.0)}\n"
          ]
        },
        {
          "output_type": "stream",
          "name": "stderr",
          "text": [
            "Testing '0000': 100%|██████████| 100000/100000 [00:00<00:00, 751629.67it/s]\n",
            "Testing '1000': 100%|██████████| 100000/100000 [00:00<00:00, 1035766.16it/s]\n",
            "Testing '2000': 100%|██████████| 100000/100000 [00:00<00:00, 1274709.46it/s]\n",
            "Testing '3000': 100%|██████████| 100000/100000 [00:00<00:00, 1245835.34it/s]\n",
            "Testing '4000': 100%|██████████| 100000/100000 [00:00<00:00, 1237009.69it/s]\n",
            "Testing '5000': 100%|██████████| 100000/100000 [00:00<00:00, 1171472.22it/s]\n",
            "Testing '6000': 100%|██████████| 100000/100000 [00:00<00:00, 1098998.03it/s]\n",
            "Testing '7000': 100%|██████████| 100000/100000 [00:00<00:00, 1227865.91it/s]\n",
            "Testing '8000': 100%|██████████| 100000/100000 [00:00<00:00, 1181324.37it/s]\n",
            "Testing '9000': 100%|██████████| 100000/100000 [00:00<00:00, 1142762.48it/s]\n"
          ]
        },
        {
          "output_type": "stream",
          "name": "stdout",
          "text": [
            "{0: np.float64(610.0), 1: np.float64(390.0), 2: np.float64(380.0), 3: np.float64(391.0), 4: np.float64(385.0), 5: np.float64(387.0), 6: np.float64(392.0), 7: np.float64(380.0), 8: np.float64(390.0), 9: np.float64(447.0)}\n"
          ]
        },
        {
          "output_type": "stream",
          "name": "stderr",
          "text": [
            "Testing '0000': 100%|██████████| 100000/100000 [00:00<00:00, 1234185.10it/s]\n",
            "Testing '1000': 100%|██████████| 100000/100000 [00:00<00:00, 1216840.74it/s]\n",
            "Testing '2000': 100%|██████████| 100000/100000 [00:00<00:00, 1280942.10it/s]\n",
            "Testing '3000': 100%|██████████| 100000/100000 [00:00<00:00, 1236885.66it/s]\n",
            "Testing '4000': 100%|██████████| 100000/100000 [00:00<00:00, 1210669.51it/s]\n",
            "Testing '5000': 100%|██████████| 100000/100000 [00:00<00:00, 1214240.97it/s]\n",
            "Testing '6000': 100%|██████████| 100000/100000 [00:00<00:00, 944023.08it/s]\n",
            "Testing '7000': 100%|██████████| 100000/100000 [00:00<00:00, 1219948.23it/s]\n",
            "Testing '8000': 100%|██████████| 100000/100000 [00:00<00:00, 1203178.41it/s]\n",
            "Testing '9000': 100%|██████████| 100000/100000 [00:00<00:00, 1132273.67it/s]\n"
          ]
        },
        {
          "output_type": "stream",
          "name": "stdout",
          "text": [
            "{0: np.float64(382.0), 1: np.float64(379.0), 2: np.float64(381.0), 3: np.float64(391.0), 4: np.float64(382.0), 5: np.float64(392.0), 6: np.float64(408.0), 7: np.float64(380.0), 8: np.float64(383.0), 9: np.float64(436.0)}\n"
          ]
        },
        {
          "output_type": "stream",
          "name": "stderr",
          "text": [
            "Testing '0000': 100%|██████████| 100000/100000 [00:00<00:00, 1210627.58it/s]\n",
            "Testing '1000': 100%|██████████| 100000/100000 [00:00<00:00, 1253198.20it/s]\n",
            "Testing '2000': 100%|██████████| 100000/100000 [00:00<00:00, 1230650.78it/s]\n",
            "Testing '3000': 100%|██████████| 100000/100000 [00:00<00:00, 1253228.16it/s]\n",
            "Testing '4000': 100%|██████████| 100000/100000 [00:00<00:00, 1229168.51it/s]\n",
            "Testing '5000': 100%|██████████| 100000/100000 [00:00<00:00, 1201121.42it/s]\n",
            "Testing '6000': 100%|██████████| 100000/100000 [00:00<00:00, 1166331.77it/s]\n",
            "Testing '7000': 100%|██████████| 100000/100000 [00:00<00:00, 967361.19it/s]\n",
            "Testing '8000': 100%|██████████| 100000/100000 [00:00<00:00, 1201861.40it/s]\n",
            "Testing '9000': 100%|██████████| 100000/100000 [00:00<00:00, 1134015.57it/s]\n"
          ]
        },
        {
          "output_type": "stream",
          "name": "stdout",
          "text": [
            "{0: np.float64(391.0), 1: np.float64(385.0), 2: np.float64(383.0), 3: np.float64(383.0), 4: np.float64(380.0), 5: np.float64(388.0), 6: np.float64(379.0), 7: np.float64(404.0), 8: np.float64(389.0), 9: np.float64(440.0)}\n"
          ]
        },
        {
          "output_type": "stream",
          "name": "stderr",
          "text": [
            "Testing '0000': 100%|██████████| 100000/100000 [00:00<00:00, 1226379.58it/s]\n",
            "Testing '1000': 100%|██████████| 100000/100000 [00:00<00:00, 1209960.54it/s]\n",
            "Testing '2000': 100%|██████████| 100000/100000 [00:00<00:00, 1257236.38it/s]\n",
            "Testing '3000': 100%|██████████| 100000/100000 [00:00<00:00, 1254356.28it/s]\n",
            "Testing '4000': 100%|██████████| 100000/100000 [00:00<00:00, 1265960.39it/s]\n",
            "Testing '5000': 100%|██████████| 100000/100000 [00:00<00:00, 1213763.09it/s]\n",
            "Testing '6000': 100%|██████████| 100000/100000 [00:00<00:00, 1221383.44it/s]\n",
            "Testing '7000': 100%|██████████| 100000/100000 [00:00<00:00, 1034029.79it/s]\n",
            "Testing '8000': 100%|██████████| 100000/100000 [00:00<00:00, 1167958.92it/s]\n",
            "Testing '9000': 100%|██████████| 100000/100000 [00:00<00:00, 1121783.60it/s]\n"
          ]
        },
        {
          "output_type": "stream",
          "name": "stdout",
          "text": [
            "{0: np.float64(378.0), 1: np.float64(389.0), 2: np.float64(385.0), 3: np.float64(379.0), 4: np.float64(384.0), 5: np.float64(389.0), 6: np.float64(379.0), 7: np.float64(395.0), 8: np.float64(381.0), 9: np.float64(442.0)}\n"
          ]
        },
        {
          "output_type": "stream",
          "name": "stderr",
          "text": [
            "Testing '0000': 100%|██████████| 100000/100000 [00:00<00:00, 1179006.55it/s]\n",
            "Testing '1000': 100%|██████████| 100000/100000 [00:00<00:00, 1234751.89it/s]\n",
            "Testing '2000': 100%|██████████| 100000/100000 [00:00<00:00, 1223881.76it/s]\n",
            "Testing '3000': 100%|██████████| 100000/100000 [00:00<00:00, 1244382.73it/s]\n",
            "Testing '4000': 100%|██████████| 100000/100000 [00:00<00:00, 1246479.56it/s]\n",
            "Testing '5000': 100%|██████████| 100000/100000 [00:00<00:00, 1252790.20it/s]\n",
            "Testing '6000': 100%|██████████| 100000/100000 [00:00<00:00, 1198718.49it/s]\n",
            "Testing '7000': 100%|██████████| 100000/100000 [00:00<00:00, 1223267.82it/s]\n",
            "Testing '8000': 100%|██████████| 100000/100000 [00:00<00:00, 1003967.23it/s]\n",
            "Testing '9000': 100%|██████████| 100000/100000 [00:00<00:00, 1082551.89it/s]\n"
          ]
        },
        {
          "output_type": "stream",
          "name": "stdout",
          "text": [
            "{0: np.float64(384.0), 1: np.float64(389.0), 2: np.float64(392.0), 3: np.float64(390.0), 4: np.float64(391.0), 5: np.float64(386.0), 6: np.float64(396.0), 7: np.float64(381.0), 8: np.float64(400.0), 9: np.float64(444.0)}\n"
          ]
        },
        {
          "output_type": "stream",
          "name": "stderr",
          "text": [
            "Testing '0000': 100%|██████████| 100000/100000 [00:00<00:00, 1200008.01it/s]\n",
            "Testing '1000': 100%|██████████| 100000/100000 [00:00<00:00, 1230990.30it/s]\n",
            "Testing '2000': 100%|██████████| 100000/100000 [00:00<00:00, 1232397.30it/s]\n",
            "Testing '3000': 100%|██████████| 100000/100000 [00:00<00:00, 1227463.46it/s]\n",
            "Testing '4000': 100%|██████████| 100000/100000 [00:00<00:00, 1279363.60it/s]\n",
            "Testing '5000': 100%|██████████| 100000/100000 [00:00<00:00, 1243036.65it/s]\n",
            "Testing '6000': 100%|██████████| 100000/100000 [00:00<00:00, 1236597.57it/s]\n",
            "Testing '7000': 100%|██████████| 100000/100000 [00:00<00:00, 1258926.96it/s]\n",
            "Testing '8000': 100%|██████████| 100000/100000 [00:00<00:00, 1067383.29it/s]\n",
            "Testing '9000': 100%|██████████| 100000/100000 [00:00<00:00, 1111003.27it/s]\n"
          ]
        },
        {
          "output_type": "stream",
          "name": "stdout",
          "text": [
            "{0: np.float64(389.0), 1: np.float64(379.0), 2: np.float64(391.0), 3: np.float64(393.0), 4: np.float64(377.0), 5: np.float64(390.0), 6: np.float64(378.0), 7: np.float64(382.0), 8: np.float64(387.0), 9: np.float64(442.0)}\n"
          ]
        },
        {
          "output_type": "stream",
          "name": "stderr",
          "text": [
            "Testing '0000': 100%|██████████| 100000/100000 [00:00<00:00, 1246798.21it/s]\n",
            "Testing '1000': 100%|██████████| 100000/100000 [00:00<00:00, 1251123.51it/s]\n",
            "Testing '2000': 100%|██████████| 100000/100000 [00:00<00:00, 1224442.71it/s]\n",
            "Testing '3000': 100%|██████████| 100000/100000 [00:00<00:00, 1211683.78it/s]\n",
            "Testing '4000': 100%|██████████| 100000/100000 [00:00<00:00, 1235304.65it/s]\n",
            "Testing '5000': 100%|██████████| 100000/100000 [00:00<00:00, 1247673.50it/s]\n",
            "Testing '6000': 100%|██████████| 100000/100000 [00:00<00:00, 1207261.47it/s]\n",
            "Testing '7000': 100%|██████████| 100000/100000 [00:00<00:00, 1245816.84it/s]\n",
            "Testing '8000': 100%|██████████| 100000/100000 [00:00<00:00, 1217522.46it/s]\n",
            "Testing '9000': 100%|██████████| 100000/100000 [00:00<00:00, 950253.29it/s]\n"
          ]
        },
        {
          "output_type": "stream",
          "name": "stdout",
          "text": [
            "{0: np.float64(382.0), 1: np.float64(380.0), 2: np.float64(391.0), 3: np.float64(382.0), 4: np.float64(390.0), 5: np.float64(389.0), 6: np.float64(389.0), 7: np.float64(389.0), 8: np.float64(390.0), 9: np.float64(480.0)}\n",
            "[9, 9, 9, 0, 9, 9, 9, 9, 9, 9]\n",
            "Counter({9: 9, 0: 1})\n",
            "Most likely digit is: '9'\n",
            "Password so far: '9'\n",
            "\n",
            "--- Attacking Position 2 (prefix: '9') ---\n"
          ]
        },
        {
          "output_type": "stream",
          "name": "stderr",
          "text": [
            "Testing '9000': 100%|██████████| 100000/100000 [00:00<00:00, 1132931.23it/s]\n",
            "Testing '9100': 100%|██████████| 100000/100000 [00:00<00:00, 1108393.21it/s]\n",
            "Testing '9200': 100%|██████████| 100000/100000 [00:00<00:00, 1134184.23it/s]\n",
            "Testing '9300': 100%|██████████| 100000/100000 [00:00<00:00, 1122356.94it/s]\n",
            "Testing '9400': 100%|██████████| 100000/100000 [00:00<00:00, 1149426.70it/s]\n",
            "Testing '9500': 100%|██████████| 100000/100000 [00:00<00:00, 1140122.10it/s]\n",
            "Testing '9600': 100%|██████████| 100000/100000 [00:00<00:00, 1127883.10it/s]\n",
            "Testing '9700': 100%|██████████| 100000/100000 [00:00<00:00, 1183397.52it/s]\n",
            "Testing '9800': 100%|██████████| 100000/100000 [00:00<00:00, 1033115.43it/s]\n",
            "Testing '9900': 100%|██████████| 100000/100000 [00:00<00:00, 952891.41it/s]\n"
          ]
        },
        {
          "output_type": "stream",
          "name": "stdout",
          "text": [
            "{0: np.float64(449.0), 1: np.float64(450.0), 2: np.float64(440.0), 3: np.float64(442.0), 4: np.float64(445.0), 5: np.float64(441.0), 6: np.float64(448.0), 7: np.float64(437.0), 8: np.float64(505.0), 9: np.float64(453.0)}\n"
          ]
        },
        {
          "output_type": "stream",
          "name": "stderr",
          "text": [
            "Testing '9000': 100%|██████████| 100000/100000 [00:00<00:00, 1118758.52it/s]\n",
            "Testing '9100': 100%|██████████| 100000/100000 [00:00<00:00, 1143192.31it/s]\n",
            "Testing '9200': 100%|██████████| 100000/100000 [00:00<00:00, 1052293.23it/s]\n",
            "Testing '9300': 100%|██████████| 100000/100000 [00:00<00:00, 1177170.06it/s]\n",
            "Testing '9400': 100%|██████████| 100000/100000 [00:00<00:00, 1191221.84it/s]\n",
            "Testing '9500': 100%|██████████| 100000/100000 [00:00<00:00, 1150028.65it/s]\n",
            "Testing '9600': 100%|██████████| 100000/100000 [00:00<00:00, 1147204.00it/s]\n",
            "Testing '9700': 100%|██████████| 100000/100000 [00:00<00:00, 1130802.29it/s]\n",
            "Testing '9800': 100%|██████████| 100000/100000 [00:00<00:00, 1064287.54it/s]\n",
            "Testing '9900': 100%|██████████| 100000/100000 [00:00<00:00, 818709.09it/s]\n"
          ]
        },
        {
          "output_type": "stream",
          "name": "stdout",
          "text": [
            "{0: np.float64(440.0), 1: np.float64(447.0), 2: np.float64(444.0), 3: np.float64(440.0), 4: np.float64(438.0), 5: np.float64(446.0), 6: np.float64(451.0), 7: np.float64(437.0), 8: np.float64(496.0), 9: np.float64(467.0)}\n"
          ]
        },
        {
          "output_type": "stream",
          "name": "stderr",
          "text": [
            "Testing '9000': 100%|██████████| 100000/100000 [00:00<00:00, 1106244.53it/s]\n",
            "Testing '9100': 100%|██████████| 100000/100000 [00:00<00:00, 1143033.42it/s]\n",
            "Testing '9200': 100%|██████████| 100000/100000 [00:00<00:00, 1157244.12it/s]\n",
            "Testing '9300': 100%|██████████| 100000/100000 [00:00<00:00, 1170008.23it/s]\n",
            "Testing '9400': 100%|██████████| 100000/100000 [00:00<00:00, 1144614.91it/s]\n",
            "Testing '9500': 100%|██████████| 100000/100000 [00:00<00:00, 1148293.84it/s]\n",
            "Testing '9600': 100%|██████████| 100000/100000 [00:00<00:00, 1129067.20it/s]\n",
            "Testing '9700': 100%|██████████| 100000/100000 [00:00<00:00, 1142650.41it/s]\n",
            "Testing '9800': 100%|██████████| 100000/100000 [00:00<00:00, 1037051.76it/s]\n",
            "Testing '9900': 100%|██████████| 100000/100000 [00:00<00:00, 971072.29it/s]\n"
          ]
        },
        {
          "output_type": "stream",
          "name": "stdout",
          "text": [
            "{0: np.float64(447.0), 1: np.float64(436.0), 2: np.float64(449.0), 3: np.float64(447.0), 4: np.float64(449.0), 5: np.float64(449.0), 6: np.float64(450.0), 7: np.float64(439.0), 8: np.float64(505.0), 9: np.float64(451.0)}\n"
          ]
        },
        {
          "output_type": "stream",
          "name": "stderr",
          "text": [
            "Testing '9000': 100%|██████████| 100000/100000 [00:00<00:00, 944380.17it/s]\n",
            "Testing '9100': 100%|██████████| 100000/100000 [00:00<00:00, 664402.10it/s]\n",
            "Testing '9200': 100%|██████████| 100000/100000 [00:00<00:00, 659427.85it/s]\n",
            "Testing '9300': 100%|██████████| 100000/100000 [00:00<00:00, 645841.90it/s]\n",
            "Testing '9400': 100%|██████████| 100000/100000 [00:00<00:00, 633884.20it/s]\n",
            "Testing '9500': 100%|██████████| 100000/100000 [00:00<00:00, 627187.52it/s]\n",
            "Testing '9600': 100%|██████████| 100000/100000 [00:00<00:00, 675633.22it/s]\n",
            "Testing '9700': 100%|██████████| 100000/100000 [00:00<00:00, 660852.30it/s]\n",
            "Testing '9800': 100%|██████████| 100000/100000 [00:00<00:00, 630630.42it/s]\n",
            "Testing '9900': 100%|██████████| 100000/100000 [00:00<00:00, 680800.67it/s]\n"
          ]
        },
        {
          "output_type": "stream",
          "name": "stdout",
          "text": [
            "{0: np.float64(463.0), 1: np.float64(697.0), 2: np.float64(762.0), 3: np.float64(781.0), 4: np.float64(810.0), 5: np.float64(806.0), 6: np.float64(809.0), 7: np.float64(800.0), 8: np.float64(879.0), 9: np.float64(775.0)}\n"
          ]
        },
        {
          "output_type": "stream",
          "name": "stderr",
          "text": [
            "Testing '9000': 100%|██████████| 100000/100000 [00:00<00:00, 658227.40it/s]\n",
            "Testing '9100': 100%|██████████| 100000/100000 [00:00<00:00, 663437.35it/s]\n",
            "Testing '9200': 100%|██████████| 100000/100000 [00:00<00:00, 647399.02it/s]\n",
            "Testing '9300': 100%|██████████| 100000/100000 [00:00<00:00, 718119.12it/s]\n",
            "Testing '9400': 100%|██████████| 100000/100000 [00:00<00:00, 682950.12it/s]\n",
            "Testing '9500': 100%|██████████| 100000/100000 [00:00<00:00, 674356.84it/s]\n",
            "Testing '9600': 100%|██████████| 100000/100000 [00:00<00:00, 781440.55it/s]\n",
            "Testing '9700': 100%|██████████| 100000/100000 [00:00<00:00, 1172300.61it/s]\n",
            "Testing '9800': 100%|██████████| 100000/100000 [00:00<00:00, 1086973.33it/s]\n",
            "Testing '9900': 100%|██████████| 100000/100000 [00:00<00:00, 889764.21it/s]\n"
          ]
        },
        {
          "output_type": "stream",
          "name": "stdout",
          "text": [
            "{0: np.float64(771.0), 1: np.float64(745.0), 2: np.float64(800.0), 3: np.float64(755.0), 4: np.float64(771.0), 5: np.float64(760.0), 6: np.float64(681.0), 7: np.float64(437.0), 8: np.float64(498.0), 9: np.float64(450.0)}\n"
          ]
        },
        {
          "output_type": "stream",
          "name": "stderr",
          "text": [
            "Testing '9000': 100%|██████████| 100000/100000 [00:00<00:00, 1173698.08it/s]\n",
            "Testing '9100': 100%|██████████| 100000/100000 [00:00<00:00, 1175721.46it/s]\n",
            "Testing '9200': 100%|██████████| 100000/100000 [00:00<00:00, 1135495.33it/s]\n",
            "Testing '9300': 100%|██████████| 100000/100000 [00:00<00:00, 1157145.14it/s]\n",
            "Testing '9400': 100%|██████████| 100000/100000 [00:00<00:00, 1100792.07it/s]\n",
            "Testing '9500': 100%|██████████| 100000/100000 [00:00<00:00, 1127001.20it/s]\n",
            "Testing '9600': 100%|██████████| 100000/100000 [00:00<00:00, 1146304.16it/s]\n",
            "Testing '9700': 100%|██████████| 100000/100000 [00:00<00:00, 1137929.03it/s]\n",
            "Testing '9800': 100%|██████████| 100000/100000 [00:00<00:00, 1089316.43it/s]\n",
            "Testing '9900': 100%|██████████| 100000/100000 [00:00<00:00, 932330.68it/s]\n"
          ]
        },
        {
          "output_type": "stream",
          "name": "stdout",
          "text": [
            "{0: np.float64(448.0), 1: np.float64(449.0), 2: np.float64(446.0), 3: np.float64(440.0), 4: np.float64(446.0), 5: np.float64(448.0), 6: np.float64(437.0), 7: np.float64(448.0), 8: np.float64(497.0), 9: np.float64(458.0)}\n"
          ]
        },
        {
          "output_type": "stream",
          "name": "stderr",
          "text": [
            "Testing '9000': 100%|██████████| 100000/100000 [00:00<00:00, 1157266.47it/s]\n",
            "Testing '9100': 100%|██████████| 100000/100000 [00:00<00:00, 1147690.56it/s]\n",
            "Testing '9200': 100%|██████████| 100000/100000 [00:00<00:00, 1100142.43it/s]\n",
            "Testing '9300': 100%|██████████| 100000/100000 [00:00<00:00, 1124770.78it/s]\n",
            "Testing '9400': 100%|██████████| 100000/100000 [00:00<00:00, 1112993.27it/s]\n",
            "Testing '9500': 100%|██████████| 100000/100000 [00:00<00:00, 1091019.38it/s]\n",
            "Testing '9600': 100%|██████████| 100000/100000 [00:00<00:00, 1100445.50it/s]\n",
            "Testing '9700': 100%|██████████| 100000/100000 [00:00<00:00, 1116296.10it/s]\n",
            "Testing '9800': 100%|██████████| 100000/100000 [00:00<00:00, 1077169.46it/s]\n",
            "Testing '9900': 100%|██████████| 100000/100000 [00:00<00:00, 939967.46it/s]\n"
          ]
        },
        {
          "output_type": "stream",
          "name": "stdout",
          "text": [
            "{0: np.float64(436.0), 1: np.float64(449.0), 2: np.float64(446.0), 3: np.float64(438.0), 4: np.float64(440.0), 5: np.float64(448.0), 6: np.float64(452.0), 7: np.float64(449.0), 8: np.float64(507.0), 9: np.float64(450.0)}\n"
          ]
        },
        {
          "output_type": "stream",
          "name": "stderr",
          "text": [
            "Testing '9000': 100%|██████████| 100000/100000 [00:00<00:00, 1143959.33it/s]\n",
            "Testing '9100': 100%|██████████| 100000/100000 [00:00<00:00, 1120091.01it/s]\n",
            "Testing '9200': 100%|██████████| 100000/100000 [00:00<00:00, 1103157.47it/s]\n",
            "Testing '9300': 100%|██████████| 100000/100000 [00:00<00:00, 1132625.29it/s]\n",
            "Testing '9400': 100%|██████████| 100000/100000 [00:00<00:00, 1084407.54it/s]\n",
            "Testing '9500': 100%|██████████| 100000/100000 [00:00<00:00, 1157247.31it/s]\n",
            "Testing '9600': 100%|██████████| 100000/100000 [00:00<00:00, 1155723.09it/s]\n",
            "Testing '9700': 100%|██████████| 100000/100000 [00:00<00:00, 1166419.35it/s]\n",
            "Testing '9800': 100%|██████████| 100000/100000 [00:00<00:00, 1044050.04it/s]\n",
            "Testing '9900': 100%|██████████| 100000/100000 [00:00<00:00, 1036421.37it/s]\n"
          ]
        },
        {
          "output_type": "stream",
          "name": "stdout",
          "text": [
            "{0: np.float64(440.0), 1: np.float64(448.0), 2: np.float64(449.0), 3: np.float64(442.0), 4: np.float64(448.0), 5: np.float64(438.0), 6: np.float64(439.0), 7: np.float64(440.0), 8: np.float64(504.0), 9: np.float64(443.0)}\n"
          ]
        },
        {
          "output_type": "stream",
          "name": "stderr",
          "text": [
            "Testing '9000': 100%|██████████| 100000/100000 [00:00<00:00, 1137025.19it/s]\n",
            "Testing '9100': 100%|██████████| 100000/100000 [00:00<00:00, 1145696.71it/s]\n",
            "Testing '9200': 100%|██████████| 100000/100000 [00:00<00:00, 1193520.06it/s]\n",
            "Testing '9300': 100%|██████████| 100000/100000 [00:00<00:00, 1087356.57it/s]\n",
            "Testing '9400': 100%|██████████| 100000/100000 [00:00<00:00, 1115301.71it/s]\n",
            "Testing '9500': 100%|██████████| 100000/100000 [00:00<00:00, 1157260.08it/s]\n",
            "Testing '9600': 100%|██████████| 100000/100000 [00:00<00:00, 1134850.15it/s]\n",
            "Testing '9700': 100%|██████████| 100000/100000 [00:00<00:00, 1166228.00it/s]\n",
            "Testing '9800': 100%|██████████| 100000/100000 [00:00<00:00, 1071259.93it/s]\n",
            "Testing '9900': 100%|██████████| 100000/100000 [00:00<00:00, 1038872.93it/s]\n"
          ]
        },
        {
          "output_type": "stream",
          "name": "stdout",
          "text": [
            "{0: np.float64(446.0), 1: np.float64(443.0), 2: np.float64(437.0), 3: np.float64(443.0), 4: np.float64(448.0), 5: np.float64(445.0), 6: np.float64(449.0), 7: np.float64(446.0), 8: np.float64(495.0), 9: np.float64(439.0)}\n"
          ]
        },
        {
          "output_type": "stream",
          "name": "stderr",
          "text": [
            "Testing '9000': 100%|██████████| 100000/100000 [00:00<00:00, 1161512.79it/s]\n",
            "Testing '9100': 100%|██████████| 100000/100000 [00:00<00:00, 1086548.14it/s]\n",
            "Testing '9200': 100%|██████████| 100000/100000 [00:00<00:00, 1114326.86it/s]\n",
            "Testing '9300': 100%|██████████| 100000/100000 [00:00<00:00, 1139558.34it/s]\n",
            "Testing '9400': 100%|██████████| 100000/100000 [00:00<00:00, 1147028.31it/s]\n",
            "Testing '9500': 100%|██████████| 100000/100000 [00:00<00:00, 1161053.01it/s]\n",
            "Testing '9600': 100%|██████████| 100000/100000 [00:00<00:00, 1151955.35it/s]\n",
            "Testing '9700': 100%|██████████| 100000/100000 [00:00<00:00, 1143918.77it/s]\n",
            "Testing '9800': 100%|██████████| 100000/100000 [00:00<00:00, 1073074.29it/s]\n",
            "Testing '9900': 100%|██████████| 100000/100000 [00:00<00:00, 967586.58it/s]\n"
          ]
        },
        {
          "output_type": "stream",
          "name": "stdout",
          "text": [
            "{0: np.float64(440.0), 1: np.float64(441.0), 2: np.float64(446.0), 3: np.float64(449.0), 4: np.float64(444.0), 5: np.float64(449.0), 6: np.float64(448.0), 7: np.float64(440.0), 8: np.float64(501.0), 9: np.float64(457.0)}\n",
            "[8, 8, 8, 8, 2, 8, 8, 8, 8, 8]\n",
            "Counter({8: 9, 2: 1})\n",
            "Most likely digit is: '8'\n",
            "Password so far: '98'\n",
            "\n",
            "--- Attacking Position 3 (prefix: '98') ---\n"
          ]
        },
        {
          "output_type": "stream",
          "name": "stderr",
          "text": [
            "Testing '9800': 100%|██████████| 100000/100000 [00:00<00:00, 1040956.20it/s]\n",
            "Testing '9810': 100%|██████████| 100000/100000 [00:00<00:00, 1063793.57it/s]\n",
            "Testing '9820': 100%|██████████| 100000/100000 [00:00<00:00, 1027134.57it/s]\n",
            "Testing '9830': 100%|██████████| 100000/100000 [00:00<00:00, 1025276.59it/s]\n",
            "Testing '9840': 100%|██████████| 100000/100000 [00:00<00:00, 1074000.27it/s]\n",
            "Testing '9850': 100%|██████████| 100000/100000 [00:00<00:00, 1055277.01it/s]\n",
            "Testing '9860': 100%|██████████| 100000/100000 [00:00<00:00, 1080644.11it/s]\n",
            "Testing '9870': 100%|██████████| 100000/100000 [00:00<00:00, 1000084.41it/s]\n",
            "Testing '9880': 100%|██████████| 100000/100000 [00:00<00:00, 917485.65it/s]\n",
            "Testing '9890': 100%|██████████| 100000/100000 [00:00<00:00, 1061292.94it/s]\n"
          ]
        },
        {
          "output_type": "stream",
          "name": "stdout",
          "text": [
            "{0: np.float64(501.0), 1: np.float64(495.0), 2: np.float64(506.0), 3: np.float64(506.0), 4: np.float64(496.0), 5: np.float64(506.0), 6: np.float64(495.0), 7: np.float64(568.0), 8: np.float64(506.0), 9: np.float64(500.0)}\n"
          ]
        },
        {
          "output_type": "stream",
          "name": "stderr",
          "text": [
            "Testing '9800': 100%|██████████| 100000/100000 [00:00<00:00, 1051048.59it/s]\n",
            "Testing '9810': 100%|██████████| 100000/100000 [00:00<00:00, 1071563.72it/s]\n",
            "Testing '9820': 100%|██████████| 100000/100000 [00:00<00:00, 1044177.40it/s]\n",
            "Testing '9830': 100%|██████████| 100000/100000 [00:00<00:00, 1087962.98it/s]\n",
            "Testing '9840': 100%|██████████| 100000/100000 [00:00<00:00, 1073593.41it/s]\n",
            "Testing '9850': 100%|██████████| 100000/100000 [00:00<00:00, 1086894.46it/s]\n",
            "Testing '9860': 100%|██████████| 100000/100000 [00:00<00:00, 1054992.99it/s]\n",
            "Testing '9870': 100%|██████████| 100000/100000 [00:00<00:00, 1003916.76it/s]\n",
            "Testing '9880': 100%|██████████| 100000/100000 [00:00<00:00, 948836.66it/s]\n",
            "Testing '9890': 100%|██████████| 100000/100000 [00:00<00:00, 1051346.30it/s]\n"
          ]
        },
        {
          "output_type": "stream",
          "name": "stdout",
          "text": [
            "{0: np.float64(497.0), 1: np.float64(496.0), 2: np.float64(497.0), 3: np.float64(497.0), 4: np.float64(497.0), 5: np.float64(503.0), 6: np.float64(497.0), 7: np.float64(559.0), 8: np.float64(506.0), 9: np.float64(504.0)}\n"
          ]
        },
        {
          "output_type": "stream",
          "name": "stderr",
          "text": [
            "Testing '9800': 100%|██████████| 100000/100000 [00:00<00:00, 1037377.51it/s]\n",
            "Testing '9810': 100%|██████████| 100000/100000 [00:00<00:00, 1007318.74it/s]\n",
            "Testing '9820': 100%|██████████| 100000/100000 [00:00<00:00, 1064109.34it/s]\n",
            "Testing '9830': 100%|██████████| 100000/100000 [00:00<00:00, 1054224.01it/s]\n",
            "Testing '9840': 100%|██████████| 100000/100000 [00:00<00:00, 1067326.25it/s]\n",
            "Testing '9850': 100%|██████████| 100000/100000 [00:00<00:00, 1045356.30it/s]\n",
            "Testing '9860': 100%|██████████| 100000/100000 [00:00<00:00, 1046044.57it/s]\n",
            "Testing '9870': 100%|██████████| 100000/100000 [00:00<00:00, 839211.59it/s]\n",
            "Testing '9880': 100%|██████████| 100000/100000 [00:00<00:00, 1071498.02it/s]\n",
            "Testing '9890': 100%|██████████| 100000/100000 [00:00<00:00, 1024763.07it/s]\n"
          ]
        },
        {
          "output_type": "stream",
          "name": "stdout",
          "text": [
            "{0: np.float64(496.0), 1: np.float64(503.0), 2: np.float64(508.0), 3: np.float64(497.0), 4: np.float64(510.0), 5: np.float64(505.0), 6: np.float64(503.0), 7: np.float64(581.0), 8: np.float64(500.0), 9: np.float64(504.0)}\n"
          ]
        },
        {
          "output_type": "stream",
          "name": "stderr",
          "text": [
            "Testing '9800': 100%|██████████| 100000/100000 [00:00<00:00, 1039256.47it/s]\n",
            "Testing '9810': 100%|██████████| 100000/100000 [00:00<00:00, 1058910.97it/s]\n",
            "Testing '9820': 100%|██████████| 100000/100000 [00:00<00:00, 1065019.91it/s]\n",
            "Testing '9830': 100%|██████████| 100000/100000 [00:00<00:00, 1070704.79it/s]\n",
            "Testing '9840': 100%|██████████| 100000/100000 [00:00<00:00, 1035686.88it/s]\n",
            "Testing '9850': 100%|██████████| 100000/100000 [00:00<00:00, 1078243.88it/s]\n",
            "Testing '9860': 100%|██████████| 100000/100000 [00:00<00:00, 861539.98it/s]\n",
            "Testing '9870': 100%|██████████| 100000/100000 [00:00<00:00, 1024240.06it/s]\n",
            "Testing '9880': 100%|██████████| 100000/100000 [00:00<00:00, 1055476.18it/s]\n",
            "Testing '9890': 100%|██████████| 100000/100000 [00:00<00:00, 789416.49it/s]\n"
          ]
        },
        {
          "output_type": "stream",
          "name": "stdout",
          "text": [
            "{0: np.float64(504.0), 1: np.float64(506.0), 2: np.float64(497.0), 3: np.float64(506.0), 4: np.float64(498.0), 5: np.float64(506.0), 6: np.float64(530.0), 7: np.float64(552.0), 8: np.float64(505.0), 9: np.float64(523.0)}\n"
          ]
        },
        {
          "output_type": "stream",
          "name": "stderr",
          "text": [
            "Testing '9800': 100%|██████████| 100000/100000 [00:00<00:00, 652156.28it/s]\n",
            "Testing '9810': 100%|██████████| 100000/100000 [00:00<00:00, 615939.85it/s]\n",
            "Testing '9820': 100%|██████████| 100000/100000 [00:00<00:00, 630080.96it/s]\n",
            "Testing '9830': 100%|██████████| 100000/100000 [00:00<00:00, 601270.12it/s]\n",
            "Testing '9840': 100%|██████████| 100000/100000 [00:00<00:00, 600059.80it/s]\n",
            "Testing '9850': 100%|██████████| 100000/100000 [00:00<00:00, 603808.00it/s]\n",
            "Testing '9860': 100%|██████████| 100000/100000 [00:00<00:00, 645559.60it/s]\n",
            "Testing '9870': 100%|██████████| 100000/100000 [00:00<00:00, 600592.53it/s]\n",
            "Testing '9880': 100%|██████████| 100000/100000 [00:00<00:00, 634966.66it/s]\n",
            "Testing '9890': 100%|██████████| 100000/100000 [00:00<00:00, 594302.81it/s]\n"
          ]
        },
        {
          "output_type": "stream",
          "name": "stdout",
          "text": [
            "{0: np.float64(842.0), 1: np.float64(884.0), 2: np.float64(885.0), 3: np.float64(907.0), 4: np.float64(938.0), 5: np.float64(926.0), 6: np.float64(907.0), 7: np.float64(991.0), 8: np.float64(887.0), 9: np.float64(874.0)}\n"
          ]
        },
        {
          "output_type": "stream",
          "name": "stderr",
          "text": [
            "Testing '9800': 100%|██████████| 100000/100000 [00:00<00:00, 610782.43it/s]\n",
            "Testing '9810': 100%|██████████| 100000/100000 [00:00<00:00, 606306.05it/s]\n",
            "Testing '9820': 100%|██████████| 100000/100000 [00:00<00:00, 652214.09it/s]\n",
            "Testing '9830': 100%|██████████| 100000/100000 [00:00<00:00, 639611.56it/s]\n",
            "Testing '9840': 100%|██████████| 100000/100000 [00:00<00:00, 637314.05it/s]\n",
            "Testing '9850': 100%|██████████| 100000/100000 [00:00<00:00, 727818.92it/s]\n",
            "Testing '9860': 100%|██████████| 100000/100000 [00:00<00:00, 1051443.81it/s]\n",
            "Testing '9870': 100%|██████████| 100000/100000 [00:00<00:00, 1022781.45it/s]\n",
            "Testing '9880': 100%|██████████| 100000/100000 [00:00<00:00, 1054955.85it/s]\n",
            "Testing '9890': 100%|██████████| 100000/100000 [00:00<00:00, 1096704.89it/s]\n"
          ]
        },
        {
          "output_type": "stream",
          "name": "stdout",
          "text": [
            "{0: np.float64(900.0), 1: np.float64(907.0), 2: np.float64(858.0), 3: np.float64(875.0), 4: np.float64(856.0), 5: np.float64(733.0), 6: np.float64(501.0), 7: np.float64(557.0), 8: np.float64(506.0), 9: np.float64(497.0)}\n"
          ]
        },
        {
          "output_type": "stream",
          "name": "stderr",
          "text": [
            "Testing '9800': 100%|██████████| 100000/100000 [00:00<00:00, 1036226.77it/s]\n",
            "Testing '9810': 100%|██████████| 100000/100000 [00:00<00:00, 1069541.69it/s]\n",
            "Testing '9820': 100%|██████████| 100000/100000 [00:00<00:00, 1022093.56it/s]\n",
            "Testing '9830': 100%|██████████| 100000/100000 [00:00<00:00, 1022357.64it/s]\n",
            "Testing '9840': 100%|██████████| 100000/100000 [00:00<00:00, 859530.80it/s]\n",
            "Testing '9850': 100%|██████████| 100000/100000 [00:00<00:00, 1032266.19it/s]\n",
            "Testing '9860': 100%|██████████| 100000/100000 [00:00<00:00, 1063707.24it/s]\n",
            "Testing '9870': 100%|██████████| 100000/100000 [00:00<00:00, 979371.18it/s]\n",
            "Testing '9880': 100%|██████████| 100000/100000 [00:00<00:00, 1067204.05it/s]\n",
            "Testing '9890': 100%|██████████| 100000/100000 [00:00<00:00, 1069015.58it/s]\n"
          ]
        },
        {
          "output_type": "stream",
          "name": "stdout",
          "text": [
            "{0: np.float64(497.0), 1: np.float64(503.0), 2: np.float64(502.0), 3: np.float64(500.0), 4: np.float64(511.0), 5: np.float64(508.0), 6: np.float64(504.0), 7: np.float64(558.0), 8: np.float64(496.0), 9: np.float64(497.0)}\n"
          ]
        },
        {
          "output_type": "stream",
          "name": "stderr",
          "text": [
            "Testing '9800': 100%|██████████| 100000/100000 [00:00<00:00, 1067345.27it/s]\n",
            "Testing '9810': 100%|██████████| 100000/100000 [00:00<00:00, 1020278.57it/s]\n",
            "Testing '9820': 100%|██████████| 100000/100000 [00:00<00:00, 1043421.50it/s]\n",
            "Testing '9830': 100%|██████████| 100000/100000 [00:00<00:00, 1004958.30it/s]\n",
            "Testing '9840': 100%|██████████| 100000/100000 [00:00<00:00, 940020.13it/s]\n",
            "Testing '9850': 100%|██████████| 100000/100000 [00:00<00:00, 1070398.75it/s]\n",
            "Testing '9860': 100%|██████████| 100000/100000 [00:00<00:00, 1071049.29it/s]\n",
            "Testing '9870': 100%|██████████| 100000/100000 [00:00<00:00, 945167.58it/s]\n",
            "Testing '9880': 100%|██████████| 100000/100000 [00:00<00:00, 1047609.58it/s]\n",
            "Testing '9890': 100%|██████████| 100000/100000 [00:00<00:00, 1074795.64it/s]\n"
          ]
        },
        {
          "output_type": "stream",
          "name": "stdout",
          "text": [
            "{0: np.float64(500.0), 1: np.float64(507.0), 2: np.float64(506.0), 3: np.float64(500.0), 4: np.float64(506.0), 5: np.float64(497.0), 6: np.float64(499.0), 7: np.float64(566.0), 8: np.float64(503.0), 9: np.float64(495.0)}\n"
          ]
        },
        {
          "output_type": "stream",
          "name": "stderr",
          "text": [
            "Testing '9800': 100%|██████████| 100000/100000 [00:00<00:00, 1008612.26it/s]\n",
            "Testing '9810': 100%|██████████| 100000/100000 [00:00<00:00, 1061744.28it/s]\n",
            "Testing '9820': 100%|██████████| 100000/100000 [00:00<00:00, 1066748.05it/s]\n",
            "Testing '9830': 100%|██████████| 100000/100000 [00:00<00:00, 878894.44it/s]\n",
            "Testing '9840': 100%|██████████| 100000/100000 [00:00<00:00, 1093471.19it/s]\n",
            "Testing '9850': 100%|██████████| 100000/100000 [00:00<00:00, 1032250.95it/s]\n",
            "Testing '9860': 100%|██████████| 100000/100000 [00:00<00:00, 1088513.56it/s]\n",
            "Testing '9870': 100%|██████████| 100000/100000 [00:00<00:00, 988138.95it/s]\n",
            "Testing '9880': 100%|██████████| 100000/100000 [00:00<00:00, 1053188.97it/s]\n",
            "Testing '9890': 100%|██████████| 100000/100000 [00:00<00:00, 1054168.36it/s]\n"
          ]
        },
        {
          "output_type": "stream",
          "name": "stdout",
          "text": [
            "{0: np.float64(500.0), 1: np.float64(498.0), 2: np.float64(502.0), 3: np.float64(511.0), 4: np.float64(494.0), 5: np.float64(503.0), 6: np.float64(501.0), 7: np.float64(564.0), 8: np.float64(506.0), 9: np.float64(503.0)}\n"
          ]
        },
        {
          "output_type": "stream",
          "name": "stderr",
          "text": [
            "Testing '9800': 100%|██████████| 100000/100000 [00:00<00:00, 1053374.12it/s]\n",
            "Testing '9810': 100%|██████████| 100000/100000 [00:00<00:00, 1034680.24it/s]\n",
            "Testing '9820': 100%|██████████| 100000/100000 [00:00<00:00, 877777.96it/s]\n",
            "Testing '9830': 100%|██████████| 100000/100000 [00:00<00:00, 1047408.14it/s]\n",
            "Testing '9840': 100%|██████████| 100000/100000 [00:00<00:00, 1042791.12it/s]\n",
            "Testing '9850': 100%|██████████| 100000/100000 [00:00<00:00, 1065092.93it/s]\n",
            "Testing '9860': 100%|██████████| 100000/100000 [00:00<00:00, 1047005.49it/s]\n",
            "Testing '9870': 100%|██████████| 100000/100000 [00:00<00:00, 1006313.35it/s]\n",
            "Testing '9880': 100%|██████████| 100000/100000 [00:00<00:00, 1060118.04it/s]\n",
            "Testing '9890': 100%|██████████| 100000/100000 [00:00<00:00, 1072177.30it/s]\n"
          ]
        },
        {
          "output_type": "stream",
          "name": "stdout",
          "text": [
            "{0: np.float64(506.0), 1: np.float64(504.0), 2: np.float64(517.0), 3: np.float64(508.0), 4: np.float64(505.0), 5: np.float64(504.0), 6: np.float64(505.0), 7: np.float64(556.0), 8: np.float64(503.0), 9: np.float64(495.0)}\n",
            "[7, 7, 7, 7, 7, 1, 7, 7, 7, 7]\n",
            "Counter({7: 9, 1: 1})\n",
            "Most likely digit is: '7'\n",
            "Password so far: '987'\n",
            "\n",
            "--- Attacking Position 4 (prefix: '987') ---\n"
          ]
        },
        {
          "output_type": "stream",
          "name": "stderr",
          "text": [
            "Testing '9870': 100%|██████████| 100000/100000 [00:00<00:00, 983412.62it/s]\n",
            "Testing '9871': 100%|██████████| 100000/100000 [00:00<00:00, 836777.22it/s]\n",
            "Testing '9872': 100%|██████████| 100000/100000 [00:00<00:00, 941188.72it/s]\n",
            "Testing '9873': 100%|██████████| 100000/100000 [00:00<00:00, 1016411.65it/s]\n",
            "Testing '9874': 100%|██████████| 100000/100000 [00:00<00:00, 981557.69it/s]\n",
            "Testing '9875': 100%|██████████| 100000/100000 [00:00<00:00, 1024512.76it/s]\n",
            "Testing '9876': 100%|██████████| 100000/100000 [00:00<00:00, 996840.00it/s]\n",
            "Testing '9877': 100%|██████████| 100000/100000 [00:00<00:00, 982380.73it/s]\n",
            "Testing '9878': 100%|██████████| 100000/100000 [00:00<00:00, 928070.66it/s]\n",
            "Testing '9879': 100%|██████████| 100000/100000 [00:00<00:00, 983364.20it/s]\n"
          ]
        },
        {
          "output_type": "stream",
          "name": "stdout",
          "text": [
            "{0: np.float64(553.0), 1: np.float64(560.0), 2: np.float64(620.0), 3: np.float64(554.0), 4: np.float64(554.0), 5: np.float64(549.0), 6: np.float64(555.0), 7: np.float64(563.0), 8: np.float64(562.0), 9: np.float64(566.0)}\n"
          ]
        },
        {
          "output_type": "stream",
          "name": "stderr",
          "text": [
            "Testing '9870': 100%|██████████| 100000/100000 [00:00<00:00, 871304.70it/s]\n",
            "Testing '9871': 100%|██████████| 100000/100000 [00:00<00:00, 987020.47it/s]\n",
            "Testing '9872': 100%|██████████| 100000/100000 [00:00<00:00, 985390.31it/s]\n",
            "Testing '9873': 100%|██████████| 100000/100000 [00:00<00:00, 960102.55it/s]\n",
            "Testing '9874': 100%|██████████| 100000/100000 [00:00<00:00, 998330.05it/s]\n",
            "Testing '9875': 100%|██████████| 100000/100000 [00:00<00:00, 961914.70it/s]\n",
            "Testing '9876': 100%|██████████| 100000/100000 [00:00<00:00, 1012742.63it/s]\n",
            "Testing '9877': 100%|██████████| 100000/100000 [00:00<00:00, 1002534.60it/s]\n",
            "Testing '9878': 100%|██████████| 100000/100000 [00:00<00:00, 1002781.48it/s]\n",
            "Testing '9879': 100%|██████████| 100000/100000 [00:00<00:00, 875701.56it/s]\n"
          ]
        },
        {
          "output_type": "stream",
          "name": "stdout",
          "text": [
            "{0: np.float64(566.0), 1: np.float64(565.0), 2: np.float64(562.0), 3: np.float64(561.0), 4: np.float64(563.0), 5: np.float64(554.0), 6: np.float64(554.0), 7: np.float64(559.0), 8: np.float64(556.0), 9: np.float64(566.0)}\n"
          ]
        },
        {
          "output_type": "stream",
          "name": "stderr",
          "text": [
            "Testing '9870': 100%|██████████| 100000/100000 [00:00<00:00, 1012698.62it/s]\n",
            "Testing '9871': 100%|██████████| 100000/100000 [00:00<00:00, 983726.30it/s]\n",
            "Testing '9872': 100%|██████████| 100000/100000 [00:00<00:00, 976900.79it/s]\n",
            "Testing '9873': 100%|██████████| 100000/100000 [00:00<00:00, 967247.42it/s]\n",
            "Testing '9874': 100%|██████████| 100000/100000 [00:00<00:00, 977592.97it/s]\n",
            "Testing '9875': 100%|██████████| 100000/100000 [00:00<00:00, 950391.10it/s]\n",
            "Testing '9876': 100%|██████████| 100000/100000 [00:00<00:00, 953409.09it/s]\n",
            "Testing '9877': 100%|██████████| 100000/100000 [00:00<00:00, 1005110.02it/s]\n",
            "Testing '9878': 100%|██████████| 100000/100000 [00:00<00:00, 844571.79it/s]\n",
            "Testing '9879': 100%|██████████| 100000/100000 [00:00<00:00, 1012082.82it/s]\n"
          ]
        },
        {
          "output_type": "stream",
          "name": "stdout",
          "text": [
            "{0: np.float64(555.0), 1: np.float64(561.0), 2: np.float64(568.0), 3: np.float64(565.0), 4: np.float64(555.0), 5: np.float64(559.0), 6: np.float64(566.0), 7: np.float64(564.0), 8: np.float64(573.0), 9: np.float64(564.0)}\n"
          ]
        },
        {
          "output_type": "stream",
          "name": "stderr",
          "text": [
            "Testing '9870': 100%|██████████| 100000/100000 [00:00<00:00, 976452.76it/s]\n",
            "Testing '9871': 100%|██████████| 100000/100000 [00:00<00:00, 1021359.33it/s]\n",
            "Testing '9872': 100%|██████████| 100000/100000 [00:00<00:00, 1004036.92it/s]\n",
            "Testing '9873': 100%|██████████| 100000/100000 [00:00<00:00, 1010872.97it/s]\n",
            "Testing '9874': 100%|██████████| 100000/100000 [00:00<00:00, 913059.68it/s]\n",
            "Testing '9875': 100%|██████████| 100000/100000 [00:00<00:00, 1011180.03it/s]\n",
            "Testing '9876': 100%|██████████| 100000/100000 [00:00<00:00, 968033.22it/s]\n",
            "Testing '9877': 100%|██████████| 100000/100000 [00:00<00:00, 871690.40it/s]\n",
            "Testing '9878': 100%|██████████| 100000/100000 [00:00<00:00, 1028681.30it/s]\n",
            "Testing '9879': 100%|██████████| 100000/100000 [00:00<00:00, 1002560.96it/s]\n"
          ]
        },
        {
          "output_type": "stream",
          "name": "stdout",
          "text": [
            "{0: np.float64(565.0), 1: np.float64(565.0), 2: np.float64(566.0), 3: np.float64(556.0), 4: np.float64(562.0), 5: np.float64(551.0), 6: np.float64(555.0), 7: np.float64(561.0), 8: np.float64(552.0), 9: np.float64(554.0)}\n"
          ]
        },
        {
          "output_type": "stream",
          "name": "stderr",
          "text": [
            "Testing '9870': 100%|██████████| 100000/100000 [00:00<00:00, 987338.78it/s]\n",
            "Testing '9871': 100%|██████████| 100000/100000 [00:00<00:00, 935366.28it/s]\n",
            "Testing '9872': 100%|██████████| 100000/100000 [00:00<00:00, 883476.36it/s]\n",
            "Testing '9873': 100%|██████████| 100000/100000 [00:00<00:00, 596839.85it/s]\n",
            "Testing '9874': 100%|██████████| 100000/100000 [00:00<00:00, 560705.10it/s]\n",
            "Testing '9875': 100%|██████████| 100000/100000 [00:00<00:00, 593106.94it/s]\n",
            "Testing '9876': 100%|██████████| 100000/100000 [00:00<00:00, 579894.84it/s]\n",
            "Testing '9877': 100%|██████████| 100000/100000 [00:00<00:00, 569769.88it/s]\n",
            "Testing '9878': 100%|██████████| 100000/100000 [00:00<00:00, 549999.80it/s]\n",
            "Testing '9879': 100%|██████████| 100000/100000 [00:00<00:00, 618393.59it/s]\n"
          ]
        },
        {
          "output_type": "stream",
          "name": "stdout",
          "text": [
            "{0: np.float64(553.0), 1: np.float64(569.0), 2: np.float64(565.0), 3: np.float64(992.0), 4: np.float64(1005.0), 5: np.float64(979.0), 6: np.float64(1038.0), 7: np.float64(1037.0), 8: np.float64(1059.0), 9: np.float64(998.0)}\n"
          ]
        },
        {
          "output_type": "stream",
          "name": "stderr",
          "text": [
            "Testing '9870': 100%|██████████| 100000/100000 [00:00<00:00, 565626.07it/s]\n",
            "Testing '9871': 100%|██████████| 100000/100000 [00:00<00:00, 583502.57it/s]\n",
            "Testing '9872': 100%|██████████| 100000/100000 [00:00<00:00, 580133.86it/s]\n",
            "Testing '9873': 100%|██████████| 100000/100000 [00:00<00:00, 566085.64it/s]\n",
            "Testing '9874': 100%|██████████| 100000/100000 [00:00<00:00, 622180.29it/s]\n",
            "Testing '9875': 100%|██████████| 100000/100000 [00:00<00:00, 578469.64it/s]\n",
            "Testing '9876': 100%|██████████| 100000/100000 [00:00<00:00, 568613.56it/s]\n",
            "Testing '9877': 100%|██████████| 100000/100000 [00:00<00:00, 595986.69it/s]\n",
            "Testing '9878': 100%|██████████| 100000/100000 [00:00<00:00, 970405.02it/s]\n",
            "Testing '9879': 100%|██████████| 100000/100000 [00:00<00:00, 911716.03it/s]\n"
          ]
        },
        {
          "output_type": "stream",
          "name": "stdout",
          "text": [
            "{0: np.float64(983.0), 1: np.float64(989.0), 2: np.float64(1013.0), 3: np.float64(994.0), 4: np.float64(962.0), 5: np.float64(965.0), 6: np.float64(935.0), 7: np.float64(924.0), 8: np.float64(566.0), 9: np.float64(560.0)}\n"
          ]
        },
        {
          "output_type": "stream",
          "name": "stderr",
          "text": [
            "Testing '9870': 100%|██████████| 100000/100000 [00:00<00:00, 1014660.96it/s]\n",
            "Testing '9871': 100%|██████████| 100000/100000 [00:00<00:00, 939527.40it/s]\n",
            "Testing '9872': 100%|██████████| 100000/100000 [00:00<00:00, 957538.07it/s]\n",
            "Testing '9873': 100%|██████████| 100000/100000 [00:00<00:00, 891346.87it/s]\n",
            "Testing '9874': 100%|██████████| 100000/100000 [00:00<00:00, 876796.27it/s]\n",
            "Testing '9875': 100%|██████████| 100000/100000 [00:00<00:00, 1012080.38it/s]\n",
            "Testing '9876': 100%|██████████| 100000/100000 [00:00<00:00, 923914.52it/s]\n",
            "Testing '9877': 100%|██████████| 100000/100000 [00:00<00:00, 974474.52it/s]\n",
            "Testing '9878': 100%|██████████| 100000/100000 [00:00<00:00, 1011121.53it/s]\n",
            "Testing '9879': 100%|██████████| 100000/100000 [00:00<00:00, 953079.79it/s]\n"
          ]
        },
        {
          "output_type": "stream",
          "name": "stdout",
          "text": [
            "{0: np.float64(553.0), 1: np.float64(557.0), 2: np.float64(555.0), 3: np.float64(559.0), 4: np.float64(563.0), 5: np.float64(558.0), 6: np.float64(556.0), 7: np.float64(558.0), 8: np.float64(555.0), 9: np.float64(564.0)}\n"
          ]
        },
        {
          "output_type": "stream",
          "name": "stderr",
          "text": [
            "Testing '9870': 100%|██████████| 100000/100000 [00:00<00:00, 1001710.95it/s]\n",
            "Testing '9871': 100%|██████████| 100000/100000 [00:00<00:00, 976675.59it/s]\n",
            "Testing '9872': 100%|██████████| 100000/100000 [00:00<00:00, 858250.39it/s]\n",
            "Testing '9873': 100%|██████████| 100000/100000 [00:00<00:00, 979915.75it/s]\n",
            "Testing '9874': 100%|██████████| 100000/100000 [00:00<00:00, 951857.74it/s]\n",
            "Testing '9875': 100%|██████████| 100000/100000 [00:00<00:00, 984576.09it/s]\n",
            "Testing '9876': 100%|██████████| 100000/100000 [00:00<00:00, 1017805.20it/s]\n",
            "Testing '9877': 100%|██████████| 100000/100000 [00:00<00:00, 1004907.73it/s]\n",
            "Testing '9878': 100%|██████████| 100000/100000 [00:00<00:00, 979229.42it/s]\n",
            "Testing '9879': 100%|██████████| 100000/100000 [00:00<00:00, 1003270.80it/s]\n"
          ]
        },
        {
          "output_type": "stream",
          "name": "stdout",
          "text": [
            "{0: np.float64(565.0), 1: np.float64(563.0), 2: np.float64(555.0), 3: np.float64(557.0), 4: np.float64(568.0), 5: np.float64(549.0), 6: np.float64(562.0), 7: np.float64(565.0), 8: np.float64(558.0), 9: np.float64(563.0)}\n"
          ]
        },
        {
          "output_type": "stream",
          "name": "stderr",
          "text": [
            "Testing '9870': 100%|██████████| 100000/100000 [00:00<00:00, 946336.20it/s]\n",
            "Testing '9871': 100%|██████████| 100000/100000 [00:00<00:00, 846573.08it/s]\n",
            "Testing '9872': 100%|██████████| 100000/100000 [00:00<00:00, 949457.40it/s]\n",
            "Testing '9873': 100%|██████████| 100000/100000 [00:00<00:00, 975775.81it/s]\n",
            "Testing '9874': 100%|██████████| 100000/100000 [00:00<00:00, 959540.26it/s]\n",
            "Testing '9875': 100%|██████████| 100000/100000 [00:00<00:00, 1020849.72it/s]\n",
            "Testing '9876': 100%|██████████| 100000/100000 [00:00<00:00, 962515.12it/s]\n",
            "Testing '9877': 100%|██████████| 100000/100000 [00:00<00:00, 1006521.03it/s]\n",
            "Testing '9878': 100%|██████████| 100000/100000 [00:00<00:00, 986266.17it/s]\n",
            "Testing '9879': 100%|██████████| 100000/100000 [00:00<00:00, 966409.45it/s]\n"
          ]
        },
        {
          "output_type": "stream",
          "name": "stdout",
          "text": [
            "{0: np.float64(555.0), 1: np.float64(567.0), 2: np.float64(564.0), 3: np.float64(562.0), 4: np.float64(562.0), 5: np.float64(549.0), 6: np.float64(564.0), 7: np.float64(555.0), 8: np.float64(554.0), 9: np.float64(559.0)}\n"
          ]
        },
        {
          "output_type": "stream",
          "name": "stderr",
          "text": [
            "Testing '9870': 100%|██████████| 100000/100000 [00:00<00:00, 830316.84it/s]\n",
            "Testing '9871': 100%|██████████| 100000/100000 [00:00<00:00, 921709.59it/s]\n",
            "Testing '9872': 100%|██████████| 100000/100000 [00:00<00:00, 978491.54it/s]\n",
            "Testing '9873': 100%|██████████| 100000/100000 [00:00<00:00, 1006199.89it/s]\n",
            "Testing '9874': 100%|██████████| 100000/100000 [00:00<00:00, 974243.65it/s]\n",
            "Testing '9875': 100%|██████████| 100000/100000 [00:00<00:00, 1030012.60it/s]\n",
            "Testing '9876': 100%|██████████| 100000/100000 [00:00<00:00, 1027270.41it/s]\n",
            "Testing '9877': 100%|██████████| 100000/100000 [00:00<00:00, 978443.61it/s]\n",
            "Testing '9878': 100%|██████████| 100000/100000 [00:00<00:00, 968433.30it/s]\n",
            "Testing '9879': 100%|██████████| 100000/100000 [00:00<00:00, 893117.70it/s]"
          ]
        },
        {
          "output_type": "stream",
          "name": "stdout",
          "text": [
            "{0: np.float64(572.0), 1: np.float64(563.0), 2: np.float64(560.0), 3: np.float64(560.0), 4: np.float64(556.0), 5: np.float64(550.0), 6: np.float64(553.0), 7: np.float64(561.0), 8: np.float64(557.0), 9: np.float64(564.0)}\n",
            "[5, 5, 0, 5, 0, 9, 0, 5, 5, 5]\n",
            "Counter({5: 6, 0: 3, 9: 1})\n",
            "Most likely digit is: '5'\n",
            "Password so far: '9875'\n",
            "\n",
            "--- ATTACK SUCCESSFUL ---\n",
            "The guessed password is: '9875'\n",
            "The actual password is: '9875'\n"
          ]
        },
        {
          "output_type": "stream",
          "name": "stderr",
          "text": [
            "\n"
          ]
        }
      ]
    },
    {
      "cell_type": "code",
      "source": [
        "#Function to run a single simulation for one digit position\n",
        "def find_next_digit(prefix, numTrials, passwordLen):\n",
        "    \"\"\"\n",
        "    Runs a simulation to find the next correct digit given a prefix.\n",
        "    Returns the most likely digit based on the meta-experiment.\n",
        "    \"\"\"\n",
        "    allGuesses = []\n",
        "    bestEstimateRuns = 10 # Number of times to repeat the experiment\n",
        "\n",
        "    print(f\"\\n--- Attacking Position {len(prefix) + 1} (prefix: '{prefix}') ---\")\n",
        "\n",
        "    for i in range(bestEstimateRuns):\n",
        "        medianTimes = {}\n",
        "        for guessDigit in range(10):\n",
        "            # Construct the key: use the found prefix, the current guess, and pad the rest with '0'\n",
        "            testKey = prefix + str(guessDigit) + \"0\" * (passwordLen - (len(prefix) + 1))\n",
        "\n",
        "            trialTimes = []\n",
        "            for _ in tqdm(range(numTrials), desc=f\"Testing '{testKey}'\"):\n",
        "                startTime = time.perf_counter_ns()\n",
        "                unlock(testKey)\n",
        "                endTime = time.perf_counter_ns()\n",
        "                trialTimes.append(endTime - startTime)\n",
        "\n",
        "            medianTimes[guessDigit] = np.median(trialTimes)\n",
        "        # Find the key with the highest median time for this single run\n",
        "        estimatedKey = max(medianTimes, key=medianTimes.get)\n",
        "        allGuesses.append(estimatedKey)\n",
        "    # Use Counter to find the most frequent guess across all meta-runs\n",
        "    guessCounts = Counter(allGuesses)\n",
        "    finalGuess = guessCounts.most_common(1)[0][0]\n",
        "    print(allGuesses)\n",
        "    #print(f\"Meta-experiment results for position {len(prefix) + 1}: {guessCounts}\")\n",
        "    print(f\"Most likely digit is: '{finalGuess}'\")\n",
        "\n",
        "    return str(finalGuess)\n",
        "\n",
        "# 3. The main orchestration for the full attack\n",
        "def find_full_password(passwordToCrack, numTrialsPerRun):\n",
        "    foundPassword = \"\"\n",
        "    passwordLen = len(passwordToCrack)\n",
        "\n",
        "    print(\"Beginning timing side-channel attack to find the full password...\")\n",
        "\n",
        "    for _ in range(passwordLen):\n",
        "        nextDigit = find_next_digit(foundPassword, numTrialsPerRun, passwordLen)\n",
        "        foundPassword += nextDigit\n",
        "        print(f\"Password so far: '{foundPassword}'\")\n",
        "\n",
        "    return foundPassword\n",
        "\n",
        "# Execute the full attack\n",
        "if __name__ == \"__main__\":\n",
        "    numTrialsPerRUN = 100000 # A reasonable number for demonstration\n",
        "    guessedPassword = find_full_password(password, numTrialsPerRUN)\n",
        "\n",
        "    print(\"\\n--- ATTACK SUCCESSFUL ---\")\n",
        "    print(f\"The guessed password is: '{guessedPassword}'\")\n",
        "    print(f\"The actual password is: '{password}'\")"
      ],
      "metadata": {
        "colab": {
          "base_uri": "https://localhost:8080/"
        },
        "id": "FXSHxB-SzcGF",
        "outputId": "6098745e-b304-4bfc-fe88-389176afc507"
      },
      "execution_count": 4,
      "outputs": [
        {
          "output_type": "stream",
          "name": "stdout",
          "text": [
            "Beginning timing side-channel attack to find the full password...\n",
            "\n",
            "--- Attacking Position 1 (prefix: '') ---\n"
          ]
        },
        {
          "output_type": "stream",
          "name": "stderr",
          "text": [
            "Testing '0000': 100%|██████████| 100000/100000 [00:00<00:00, 1221646.69it/s]\n",
            "Testing '1000': 100%|██████████| 100000/100000 [00:00<00:00, 1085721.24it/s]\n",
            "Testing '2000': 100%|██████████| 100000/100000 [00:00<00:00, 1211459.80it/s]\n",
            "Testing '3000': 100%|██████████| 100000/100000 [00:00<00:00, 1249409.15it/s]\n",
            "Testing '4000': 100%|██████████| 100000/100000 [00:00<00:00, 1227093.57it/s]\n",
            "Testing '5000': 100%|██████████| 100000/100000 [00:00<00:00, 1243301.95it/s]\n",
            "Testing '6000': 100%|██████████| 100000/100000 [00:00<00:00, 1213924.68it/s]\n",
            "Testing '7000': 100%|██████████| 100000/100000 [00:00<00:00, 1214923.30it/s]\n",
            "Testing '8000': 100%|██████████| 100000/100000 [00:00<00:00, 1162678.35it/s]\n",
            "Testing '9000': 100%|██████████| 100000/100000 [00:00<00:00, 1111153.38it/s]\n",
            "Testing '0000': 100%|██████████| 100000/100000 [00:00<00:00, 1277123.67it/s]\n",
            "Testing '1000': 100%|██████████| 100000/100000 [00:00<00:00, 1206195.61it/s]\n",
            "Testing '2000': 100%|██████████| 100000/100000 [00:00<00:00, 1035346.86it/s]\n",
            "Testing '3000': 100%|██████████| 100000/100000 [00:00<00:00, 1245683.64it/s]\n",
            "Testing '4000': 100%|██████████| 100000/100000 [00:00<00:00, 1270342.94it/s]\n",
            "Testing '5000': 100%|██████████| 100000/100000 [00:00<00:00, 1243390.41it/s]\n",
            "Testing '6000': 100%|██████████| 100000/100000 [00:00<00:00, 1295906.17it/s]\n",
            "Testing '7000': 100%|██████████| 100000/100000 [00:00<00:00, 1241550.14it/s]\n",
            "Testing '8000': 100%|██████████| 100000/100000 [00:00<00:00, 1186708.92it/s]\n",
            "Testing '9000': 100%|██████████| 100000/100000 [00:00<00:00, 1119953.43it/s]\n",
            "Testing '0000': 100%|██████████| 100000/100000 [00:00<00:00, 1248379.07it/s]\n",
            "Testing '1000': 100%|██████████| 100000/100000 [00:00<00:00, 1281286.45it/s]\n",
            "Testing '2000': 100%|██████████| 100000/100000 [00:00<00:00, 1271382.63it/s]\n",
            "Testing '3000': 100%|██████████| 100000/100000 [00:00<00:00, 1070057.40it/s]\n",
            "Testing '4000': 100%|██████████| 100000/100000 [00:00<00:00, 1274604.87it/s]\n",
            "Testing '5000': 100%|██████████| 100000/100000 [00:00<00:00, 1277753.95it/s]\n",
            "Testing '6000': 100%|██████████| 100000/100000 [00:00<00:00, 1237400.17it/s]\n",
            "Testing '7000': 100%|██████████| 100000/100000 [00:00<00:00, 1163658.96it/s]\n",
            "Testing '8000': 100%|██████████| 100000/100000 [00:00<00:00, 1246753.74it/s]\n",
            "Testing '9000': 100%|██████████| 100000/100000 [00:00<00:00, 1159816.94it/s]\n",
            "Testing '0000': 100%|██████████| 100000/100000 [00:00<00:00, 1211036.55it/s]\n",
            "Testing '1000': 100%|██████████| 100000/100000 [00:00<00:00, 1241278.24it/s]\n",
            "Testing '2000': 100%|██████████| 100000/100000 [00:00<00:00, 1247569.59it/s]\n",
            "Testing '3000': 100%|██████████| 100000/100000 [00:00<00:00, 1237940.69it/s]\n",
            "Testing '4000': 100%|██████████| 100000/100000 [00:00<00:00, 970966.64it/s]\n",
            "Testing '5000': 100%|██████████| 100000/100000 [00:00<00:00, 1186292.72it/s]\n",
            "Testing '6000': 100%|██████████| 100000/100000 [00:00<00:00, 1249379.38it/s]\n",
            "Testing '7000': 100%|██████████| 100000/100000 [00:00<00:00, 1156376.29it/s]\n",
            "Testing '8000': 100%|██████████| 100000/100000 [00:00<00:00, 1253947.53it/s]\n",
            "Testing '9000': 100%|██████████| 100000/100000 [00:00<00:00, 1131262.83it/s]\n",
            "Testing '0000': 100%|██████████| 100000/100000 [00:00<00:00, 1256795.61it/s]\n",
            "Testing '1000': 100%|██████████| 100000/100000 [00:00<00:00, 1164508.66it/s]\n",
            "Testing '2000': 100%|██████████| 100000/100000 [00:00<00:00, 1221098.97it/s]\n",
            "Testing '3000': 100%|██████████| 100000/100000 [00:00<00:00, 1224464.15it/s]\n",
            "Testing '4000': 100%|██████████| 100000/100000 [00:00<00:00, 1038039.90it/s]\n",
            "Testing '5000': 100%|██████████| 100000/100000 [00:00<00:00, 1234185.10it/s]\n",
            "Testing '6000': 100%|██████████| 100000/100000 [00:00<00:00, 1251720.92it/s]\n",
            "Testing '7000': 100%|██████████| 100000/100000 [00:00<00:00, 1233796.64it/s]\n",
            "Testing '8000': 100%|██████████| 100000/100000 [00:00<00:00, 1162578.44it/s]\n",
            "Testing '9000': 100%|██████████| 100000/100000 [00:00<00:00, 1136904.99it/s]\n",
            "Testing '0000': 100%|██████████| 100000/100000 [00:00<00:00, 1115562.75it/s]\n",
            "Testing '1000': 100%|██████████| 100000/100000 [00:00<00:00, 1198721.91it/s]\n",
            "Testing '2000': 100%|██████████| 100000/100000 [00:00<00:00, 1224192.54it/s]\n",
            "Testing '3000': 100%|██████████| 100000/100000 [00:00<00:00, 1241123.97it/s]\n",
            "Testing '4000': 100%|██████████| 100000/100000 [00:00<00:00, 1232006.34it/s]\n",
            "Testing '5000': 100%|██████████| 100000/100000 [00:00<00:00, 1062922.80it/s]\n",
            "Testing '6000': 100%|██████████| 100000/100000 [00:00<00:00, 1251160.83it/s]\n",
            "Testing '7000': 100%|██████████| 100000/100000 [00:00<00:00, 1206997.43it/s]\n",
            "Testing '8000': 100%|██████████| 100000/100000 [00:00<00:00, 1200231.22it/s]\n",
            "Testing '9000': 100%|██████████| 100000/100000 [00:00<00:00, 1142566.37it/s]\n",
            "Testing '0000': 100%|██████████| 100000/100000 [00:00<00:00, 1193635.54it/s]\n",
            "Testing '1000': 100%|██████████| 100000/100000 [00:00<00:00, 1189606.87it/s]\n",
            "Testing '2000': 100%|██████████| 100000/100000 [00:00<00:00, 1219852.43it/s]\n",
            "Testing '3000': 100%|██████████| 100000/100000 [00:00<00:00, 1228113.98it/s]\n",
            "Testing '4000': 100%|██████████| 100000/100000 [00:00<00:00, 1236936.72it/s]\n",
            "Testing '5000': 100%|██████████| 100000/100000 [00:00<00:00, 1001086.94it/s]\n",
            "Testing '6000': 100%|██████████| 100000/100000 [00:00<00:00, 1192471.54it/s]\n",
            "Testing '7000': 100%|██████████| 100000/100000 [00:00<00:00, 1257609.58it/s]\n",
            "Testing '8000': 100%|██████████| 100000/100000 [00:00<00:00, 1197113.89it/s]\n",
            "Testing '9000': 100%|██████████| 100000/100000 [00:00<00:00, 1136757.09it/s]\n",
            "Testing '0000': 100%|██████████| 100000/100000 [00:00<00:00, 1225806.11it/s]\n",
            "Testing '1000': 100%|██████████| 100000/100000 [00:00<00:00, 1231912.26it/s]\n",
            "Testing '2000': 100%|██████████| 100000/100000 [00:00<00:00, 1227639.50it/s]\n",
            "Testing '3000': 100%|██████████| 100000/100000 [00:00<00:00, 1242738.33it/s]\n",
            "Testing '4000': 100%|██████████| 100000/100000 [00:00<00:00, 1238704.80it/s]\n",
            "Testing '5000': 100%|██████████| 100000/100000 [00:00<00:00, 1207744.67it/s]\n",
            "Testing '6000': 100%|██████████| 100000/100000 [00:00<00:00, 1057400.00it/s]\n",
            "Testing '7000': 100%|██████████| 100000/100000 [00:00<00:00, 1264689.26it/s]\n",
            "Testing '8000': 100%|██████████| 100000/100000 [00:00<00:00, 1196840.62it/s]\n",
            "Testing '9000': 100%|██████████| 100000/100000 [00:00<00:00, 1167669.54it/s]\n",
            "Testing '0000': 100%|██████████| 100000/100000 [00:00<00:00, 1231272.16it/s]\n",
            "Testing '1000': 100%|██████████| 100000/100000 [00:00<00:00, 1251425.88it/s]\n",
            "Testing '2000': 100%|██████████| 100000/100000 [00:00<00:00, 1226971.52it/s]\n",
            "Testing '3000': 100%|██████████| 100000/100000 [00:00<00:00, 1240947.71it/s]\n",
            "Testing '4000': 100%|██████████| 100000/100000 [00:00<00:00, 1229204.53it/s]\n",
            "Testing '5000': 100%|██████████| 100000/100000 [00:00<00:00, 1246664.80it/s]\n",
            "Testing '6000': 100%|██████████| 100000/100000 [00:00<00:00, 1285381.91it/s]\n",
            "Testing '7000': 100%|██████████| 100000/100000 [00:00<00:00, 1083835.89it/s]\n",
            "Testing '8000': 100%|██████████| 100000/100000 [00:00<00:00, 1288145.25it/s]\n",
            "Testing '9000': 100%|██████████| 100000/100000 [00:00<00:00, 1130601.11it/s]\n",
            "Testing '0000': 100%|██████████| 100000/100000 [00:00<00:00, 1192569.87it/s]\n",
            "Testing '1000': 100%|██████████| 100000/100000 [00:00<00:00, 1251384.81it/s]\n",
            "Testing '2000': 100%|██████████| 100000/100000 [00:00<00:00, 1211295.36it/s]\n",
            "Testing '3000': 100%|██████████| 100000/100000 [00:00<00:00, 1241134.99it/s]\n",
            "Testing '4000': 100%|██████████| 100000/100000 [00:00<00:00, 1255602.95it/s]\n",
            "Testing '5000': 100%|██████████| 100000/100000 [00:00<00:00, 1233038.57it/s]\n",
            "Testing '6000': 100%|██████████| 100000/100000 [00:00<00:00, 1204847.77it/s]\n",
            "Testing '7000': 100%|██████████| 100000/100000 [00:00<00:00, 962546.04it/s]\n",
            "Testing '8000': 100%|██████████| 100000/100000 [00:00<00:00, 715304.78it/s]\n",
            "Testing '9000': 100%|██████████| 100000/100000 [00:00<00:00, 705668.66it/s]\n"
          ]
        },
        {
          "output_type": "stream",
          "name": "stdout",
          "text": [
            "[9, 9, 9, 9, 9, 9, 9, 9, 9, 9]\n",
            "Most likely digit is: '9'\n",
            "Password so far: '9'\n",
            "\n",
            "--- Attacking Position 2 (prefix: '9') ---\n"
          ]
        },
        {
          "output_type": "stream",
          "name": "stderr",
          "text": [
            "Testing '9000': 100%|██████████| 100000/100000 [00:00<00:00, 685020.31it/s]\n",
            "Testing '9100': 100%|██████████| 100000/100000 [00:00<00:00, 695224.61it/s]\n",
            "Testing '9200': 100%|██████████| 100000/100000 [00:00<00:00, 655858.04it/s]\n",
            "Testing '9300': 100%|██████████| 100000/100000 [00:00<00:00, 656911.95it/s]\n",
            "Testing '9400': 100%|██████████| 100000/100000 [00:00<00:00, 569017.78it/s]\n",
            "Testing '9500': 100%|██████████| 100000/100000 [00:00<00:00, 688776.42it/s]\n",
            "Testing '9600': 100%|██████████| 100000/100000 [00:00<00:00, 714949.96it/s]\n",
            "Testing '9700': 100%|██████████| 100000/100000 [00:00<00:00, 714767.21it/s]\n",
            "Testing '9800': 100%|██████████| 100000/100000 [00:00<00:00, 656371.22it/s]\n",
            "Testing '9900': 100%|██████████| 100000/100000 [00:00<00:00, 684070.66it/s]\n",
            "Testing '9000': 100%|██████████| 100000/100000 [00:00<00:00, 623633.61it/s]\n",
            "Testing '9100': 100%|██████████| 100000/100000 [00:00<00:00, 660239.58it/s]\n",
            "Testing '9200': 100%|██████████| 100000/100000 [00:00<00:00, 669984.51it/s]\n",
            "Testing '9300': 100%|██████████| 100000/100000 [00:00<00:00, 707005.66it/s]\n",
            "Testing '9400': 100%|██████████| 100000/100000 [00:00<00:00, 684975.56it/s]\n",
            "Testing '9500': 100%|██████████| 100000/100000 [00:00<00:00, 1181068.23it/s]\n",
            "Testing '9600': 100%|██████████| 100000/100000 [00:00<00:00, 1166747.06it/s]\n",
            "Testing '9700': 100%|██████████| 100000/100000 [00:00<00:00, 1086750.84it/s]\n",
            "Testing '9800': 100%|██████████| 100000/100000 [00:00<00:00, 890294.92it/s]\n",
            "Testing '9900': 100%|██████████| 100000/100000 [00:00<00:00, 1134263.97it/s]\n",
            "Testing '9000': 100%|██████████| 100000/100000 [00:00<00:00, 1140156.20it/s]\n",
            "Testing '9100': 100%|██████████| 100000/100000 [00:00<00:00, 1152471.29it/s]\n",
            "Testing '9200': 100%|██████████| 100000/100000 [00:00<00:00, 1143500.87it/s]\n",
            "Testing '9300': 100%|██████████| 100000/100000 [00:00<00:00, 1186208.85it/s]\n",
            "Testing '9400': 100%|██████████| 100000/100000 [00:00<00:00, 1134865.50it/s]\n",
            "Testing '9500': 100%|██████████| 100000/100000 [00:00<00:00, 1176295.19it/s]\n",
            "Testing '9600': 100%|██████████| 100000/100000 [00:00<00:00, 1172697.20it/s]\n",
            "Testing '9700': 100%|██████████| 100000/100000 [00:00<00:00, 1158887.61it/s]\n",
            "Testing '9800': 100%|██████████| 100000/100000 [00:00<00:00, 892595.02it/s]\n",
            "Testing '9900': 100%|██████████| 100000/100000 [00:00<00:00, 1124541.60it/s]\n",
            "Testing '9000': 100%|██████████| 100000/100000 [00:00<00:00, 1101919.94it/s]\n",
            "Testing '9100': 100%|██████████| 100000/100000 [00:00<00:00, 1114708.89it/s]\n",
            "Testing '9200': 100%|██████████| 100000/100000 [00:00<00:00, 1157978.96it/s]\n",
            "Testing '9300': 100%|██████████| 100000/100000 [00:00<00:00, 1173635.68it/s]\n",
            "Testing '9400': 100%|██████████| 100000/100000 [00:00<00:00, 1167997.95it/s]\n",
            "Testing '9500': 100%|██████████| 100000/100000 [00:00<00:00, 1121972.65it/s]\n",
            "Testing '9600': 100%|██████████| 100000/100000 [00:00<00:00, 1167526.52it/s]\n",
            "Testing '9700': 100%|██████████| 100000/100000 [00:00<00:00, 1111547.97it/s]\n",
            "Testing '9800': 100%|██████████| 100000/100000 [00:00<00:00, 885374.85it/s]\n",
            "Testing '9900': 100%|██████████| 100000/100000 [00:00<00:00, 1180356.95it/s]\n",
            "Testing '9000': 100%|██████████| 100000/100000 [00:00<00:00, 1127561.70it/s]\n",
            "Testing '9100': 100%|██████████| 100000/100000 [00:00<00:00, 1184002.17it/s]\n",
            "Testing '9200': 100%|██████████| 100000/100000 [00:00<00:00, 1176641.68it/s]\n",
            "Testing '9300': 100%|██████████| 100000/100000 [00:00<00:00, 1142332.98it/s]\n",
            "Testing '9400': 100%|██████████| 100000/100000 [00:00<00:00, 1167120.42it/s]\n",
            "Testing '9500': 100%|██████████| 100000/100000 [00:00<00:00, 1191949.67it/s]\n",
            "Testing '9600': 100%|██████████| 100000/100000 [00:00<00:00, 1170952.22it/s]\n",
            "Testing '9700': 100%|██████████| 100000/100000 [00:00<00:00, 1094538.40it/s]\n",
            "Testing '9800': 100%|██████████| 100000/100000 [00:00<00:00, 883813.31it/s]\n",
            "Testing '9900': 100%|██████████| 100000/100000 [00:00<00:00, 1074027.77it/s]\n",
            "Testing '9000': 100%|██████████| 100000/100000 [00:00<00:00, 1137796.30it/s]\n",
            "Testing '9100': 100%|██████████| 100000/100000 [00:00<00:00, 1157154.72it/s]\n",
            "Testing '9200': 100%|██████████| 100000/100000 [00:00<00:00, 1169799.39it/s]\n",
            "Testing '9300': 100%|██████████| 100000/100000 [00:00<00:00, 1117887.84it/s]\n",
            "Testing '9400': 100%|██████████| 100000/100000 [00:00<00:00, 1171714.40it/s]\n",
            "Testing '9500': 100%|██████████| 100000/100000 [00:00<00:00, 1162117.82it/s]\n",
            "Testing '9600': 100%|██████████| 100000/100000 [00:00<00:00, 1103221.31it/s]\n",
            "Testing '9700': 100%|██████████| 100000/100000 [00:00<00:00, 1147310.69it/s]\n",
            "Testing '9800': 100%|██████████| 100000/100000 [00:00<00:00, 902355.98it/s]\n",
            "Testing '9900': 100%|██████████| 100000/100000 [00:00<00:00, 1129407.71it/s]\n",
            "Testing '9000': 100%|██████████| 100000/100000 [00:00<00:00, 1161323.05it/s]\n",
            "Testing '9100': 100%|██████████| 100000/100000 [00:00<00:00, 1131415.41it/s]\n",
            "Testing '9200': 100%|██████████| 100000/100000 [00:00<00:00, 1169854.85it/s]\n",
            "Testing '9300': 100%|██████████| 100000/100000 [00:00<00:00, 1183023.68it/s]\n",
            "Testing '9400': 100%|██████████| 100000/100000 [00:00<00:00, 1194696.32it/s]\n",
            "Testing '9500': 100%|██████████| 100000/100000 [00:00<00:00, 1172920.20it/s]\n",
            "Testing '9600': 100%|██████████| 100000/100000 [00:00<00:00, 1103319.98it/s]\n",
            "Testing '9700': 100%|██████████| 100000/100000 [00:00<00:00, 1149842.64it/s]\n",
            "Testing '9800': 100%|██████████| 100000/100000 [00:00<00:00, 908072.25it/s]\n",
            "Testing '9900': 100%|██████████| 100000/100000 [00:00<00:00, 1128028.70it/s]\n",
            "Testing '9000': 100%|██████████| 100000/100000 [00:00<00:00, 1170275.92it/s]\n",
            "Testing '9100': 100%|██████████| 100000/100000 [00:00<00:00, 1148278.12it/s]\n",
            "Testing '9200': 100%|██████████| 100000/100000 [00:00<00:00, 1108360.99it/s]\n",
            "Testing '9300': 100%|██████████| 100000/100000 [00:00<00:00, 1144855.48it/s]\n",
            "Testing '9400': 100%|██████████| 100000/100000 [00:00<00:00, 1165926.50it/s]\n",
            "Testing '9500': 100%|██████████| 100000/100000 [00:00<00:00, 1140211.99it/s]\n",
            "Testing '9600': 100%|██████████| 100000/100000 [00:00<00:00, 1080769.42it/s]\n",
            "Testing '9700': 100%|██████████| 100000/100000 [00:00<00:00, 1131336.06it/s]\n",
            "Testing '9800': 100%|██████████| 100000/100000 [00:00<00:00, 897229.14it/s]\n",
            "Testing '9900': 100%|██████████| 100000/100000 [00:00<00:00, 1111492.00it/s]\n",
            "Testing '9000': 100%|██████████| 100000/100000 [00:00<00:00, 1119080.89it/s]\n",
            "Testing '9100': 100%|██████████| 100000/100000 [00:00<00:00, 1163097.49it/s]\n",
            "Testing '9200': 100%|██████████| 100000/100000 [00:00<00:00, 1145305.65it/s]\n",
            "Testing '9300': 100%|██████████| 100000/100000 [00:00<00:00, 1154962.48it/s]\n",
            "Testing '9400': 100%|██████████| 100000/100000 [00:00<00:00, 1174174.51it/s]\n",
            "Testing '9500': 100%|██████████| 100000/100000 [00:00<00:00, 1105521.41it/s]\n",
            "Testing '9600': 100%|██████████| 100000/100000 [00:00<00:00, 1131708.48it/s]\n",
            "Testing '9700': 100%|██████████| 100000/100000 [00:00<00:00, 1144924.24it/s]\n",
            "Testing '9800': 100%|██████████| 100000/100000 [00:00<00:00, 895237.49it/s]\n",
            "Testing '9900': 100%|██████████| 100000/100000 [00:00<00:00, 1167081.45it/s]\n",
            "Testing '9000': 100%|██████████| 100000/100000 [00:00<00:00, 1178327.54it/s]\n",
            "Testing '9100': 100%|██████████| 100000/100000 [00:00<00:00, 1163178.12it/s]\n",
            "Testing '9200': 100%|██████████| 100000/100000 [00:00<00:00, 1181916.91it/s]\n",
            "Testing '9300': 100%|██████████| 100000/100000 [00:00<00:00, 1148740.42it/s]\n",
            "Testing '9400': 100%|██████████| 100000/100000 [00:00<00:00, 1173267.99it/s]\n",
            "Testing '9500': 100%|██████████| 100000/100000 [00:00<00:00, 1099170.83it/s]\n",
            "Testing '9600': 100%|██████████| 100000/100000 [00:00<00:00, 1109701.11it/s]\n",
            "Testing '9700': 100%|██████████| 100000/100000 [00:00<00:00, 1116664.63it/s]\n",
            "Testing '9800': 100%|██████████| 100000/100000 [00:00<00:00, 844524.18it/s]\n",
            "Testing '9900': 100%|██████████| 100000/100000 [00:00<00:00, 1153203.25it/s]\n"
          ]
        },
        {
          "output_type": "stream",
          "name": "stdout",
          "text": [
            "[8, 0, 8, 8, 8, 8, 8, 8, 8, 8]\n",
            "Most likely digit is: '8'\n",
            "Password so far: '98'\n",
            "\n",
            "--- Attacking Position 3 (prefix: '98') ---\n"
          ]
        },
        {
          "output_type": "stream",
          "name": "stderr",
          "text": [
            "Testing '9800': 100%|██████████| 100000/100000 [00:00<00:00, 1038106.69it/s]\n",
            "Testing '9810': 100%|██████████| 100000/100000 [00:00<00:00, 1046893.12it/s]\n",
            "Testing '9820': 100%|██████████| 100000/100000 [00:00<00:00, 1082674.84it/s]\n",
            "Testing '9830': 100%|██████████| 100000/100000 [00:00<00:00, 1067003.14it/s]\n",
            "Testing '9840': 100%|██████████| 100000/100000 [00:00<00:00, 1070308.62it/s]\n",
            "Testing '9850': 100%|██████████| 100000/100000 [00:00<00:00, 1045671.65it/s]\n",
            "Testing '9860': 100%|██████████| 100000/100000 [00:00<00:00, 1058785.34it/s]\n",
            "Testing '9870': 100%|██████████| 100000/100000 [00:00<00:00, 964216.68it/s]\n",
            "Testing '9880': 100%|██████████| 100000/100000 [00:00<00:00, 947820.33it/s]\n",
            "Testing '9890': 100%|██████████| 100000/100000 [00:00<00:00, 1071853.99it/s]\n",
            "Testing '9800': 100%|██████████| 100000/100000 [00:00<00:00, 734027.06it/s]\n",
            "Testing '9810': 100%|██████████| 100000/100000 [00:00<00:00, 609375.04it/s]\n",
            "Testing '9820': 100%|██████████| 100000/100000 [00:00<00:00, 617141.58it/s]\n",
            "Testing '9830': 100%|██████████| 100000/100000 [00:00<00:00, 632817.84it/s]\n",
            "Testing '9840': 100%|██████████| 100000/100000 [00:00<00:00, 578145.11it/s]\n",
            "Testing '9850': 100%|██████████| 100000/100000 [00:00<00:00, 620868.80it/s]\n",
            "Testing '9860': 100%|██████████| 100000/100000 [00:00<00:00, 635470.76it/s]\n",
            "Testing '9870': 100%|██████████| 100000/100000 [00:00<00:00, 601774.78it/s]\n",
            "Testing '9880': 100%|██████████| 100000/100000 [00:00<00:00, 595256.74it/s]\n",
            "Testing '9890': 100%|██████████| 100000/100000 [00:00<00:00, 647378.03it/s]\n",
            "Testing '9800': 100%|██████████| 100000/100000 [00:00<00:00, 545780.14it/s]\n",
            "Testing '9810': 100%|██████████| 100000/100000 [00:00<00:00, 586314.18it/s]\n",
            "Testing '9820': 100%|██████████| 100000/100000 [00:00<00:00, 626340.85it/s]\n",
            "Testing '9830': 100%|██████████| 100000/100000 [00:00<00:00, 612642.54it/s]\n",
            "Testing '9840': 100%|██████████| 100000/100000 [00:00<00:00, 636520.97it/s]\n",
            "Testing '9850': 100%|██████████| 100000/100000 [00:00<00:00, 758001.72it/s]\n",
            "Testing '9860': 100%|██████████| 100000/100000 [00:00<00:00, 897338.56it/s]\n",
            "Testing '9870': 100%|██████████| 100000/100000 [00:00<00:00, 1030270.67it/s]\n",
            "Testing '9880': 100%|██████████| 100000/100000 [00:00<00:00, 1099124.75it/s]\n",
            "Testing '9890': 100%|██████████| 100000/100000 [00:00<00:00, 1090599.53it/s]\n",
            "Testing '9800': 100%|██████████| 100000/100000 [00:00<00:00, 1021498.63it/s]\n",
            "Testing '9810': 100%|██████████| 100000/100000 [00:00<00:00, 1041173.26it/s]\n",
            "Testing '9820': 100%|██████████| 100000/100000 [00:00<00:00, 1070240.34it/s]\n",
            "Testing '9830': 100%|██████████| 100000/100000 [00:00<00:00, 1087968.62it/s]\n",
            "Testing '9840': 100%|██████████| 100000/100000 [00:00<00:00, 1098695.75it/s]\n",
            "Testing '9850': 100%|██████████| 100000/100000 [00:00<00:00, 1061008.37it/s]\n",
            "Testing '9860': 100%|██████████| 100000/100000 [00:00<00:00, 915125.53it/s]\n",
            "Testing '9870': 100%|██████████| 100000/100000 [00:00<00:00, 1023845.02it/s]\n",
            "Testing '9880': 100%|██████████| 100000/100000 [00:00<00:00, 1105646.72it/s]\n",
            "Testing '9890': 100%|██████████| 100000/100000 [00:00<00:00, 1066843.02it/s]\n",
            "Testing '9800': 100%|██████████| 100000/100000 [00:00<00:00, 1032365.28it/s]\n",
            "Testing '9810': 100%|██████████| 100000/100000 [00:00<00:00, 1061655.60it/s]\n",
            "Testing '9820': 100%|██████████| 100000/100000 [00:00<00:00, 1065525.85it/s]\n",
            "Testing '9830': 100%|██████████| 100000/100000 [00:00<00:00, 1060152.87it/s]\n",
            "Testing '9840': 100%|██████████| 100000/100000 [00:00<00:00, 1082853.73it/s]\n",
            "Testing '9850': 100%|██████████| 100000/100000 [00:00<00:00, 880325.91it/s]\n",
            "Testing '9860': 100%|██████████| 100000/100000 [00:00<00:00, 1090619.38it/s]\n",
            "Testing '9870': 100%|██████████| 100000/100000 [00:00<00:00, 978208.57it/s]\n",
            "Testing '9880': 100%|██████████| 100000/100000 [00:00<00:00, 1039184.37it/s]\n",
            "Testing '9890': 100%|██████████| 100000/100000 [00:00<00:00, 1031895.41it/s]\n",
            "Testing '9800': 100%|██████████| 100000/100000 [00:00<00:00, 1063782.77it/s]\n",
            "Testing '9810': 100%|██████████| 100000/100000 [00:00<00:00, 1089254.20it/s]\n",
            "Testing '9820': 100%|██████████| 100000/100000 [00:00<00:00, 1098315.99it/s]\n",
            "Testing '9830': 100%|██████████| 100000/100000 [00:00<00:00, 1115037.83it/s]\n",
            "Testing '9840': 100%|██████████| 100000/100000 [00:00<00:00, 1072832.75it/s]\n",
            "Testing '9850': 100%|██████████| 100000/100000 [00:00<00:00, 954726.40it/s]\n",
            "Testing '9860': 100%|██████████| 100000/100000 [00:00<00:00, 1091118.72it/s]\n",
            "Testing '9870': 100%|██████████| 100000/100000 [00:00<00:00, 948047.42it/s]\n",
            "Testing '9880': 100%|██████████| 100000/100000 [00:00<00:00, 920499.94it/s]\n",
            "Testing '9890': 100%|██████████| 100000/100000 [00:00<00:00, 1077916.90it/s]\n",
            "Testing '9800': 100%|██████████| 100000/100000 [00:00<00:00, 1066959.72it/s]\n",
            "Testing '9810': 100%|██████████| 100000/100000 [00:00<00:00, 1079951.28it/s]\n",
            "Testing '9820': 100%|██████████| 100000/100000 [00:00<00:00, 1098235.46it/s]\n",
            "Testing '9830': 100%|██████████| 100000/100000 [00:00<00:00, 1080129.28it/s]\n",
            "Testing '9840': 100%|██████████| 100000/100000 [00:00<00:00, 928822.87it/s]\n",
            "Testing '9850': 100%|██████████| 100000/100000 [00:00<00:00, 1083410.35it/s]\n",
            "Testing '9860': 100%|██████████| 100000/100000 [00:00<00:00, 1044934.40it/s]\n",
            "Testing '9870': 100%|██████████| 100000/100000 [00:00<00:00, 969433.84it/s]\n",
            "Testing '9880': 100%|██████████| 100000/100000 [00:00<00:00, 1070437.00it/s]\n",
            "Testing '9890': 100%|██████████| 100000/100000 [00:00<00:00, 1042506.01it/s]\n",
            "Testing '9800': 100%|██████████| 100000/100000 [00:00<00:00, 1070193.92it/s]\n",
            "Testing '9810': 100%|██████████| 100000/100000 [00:00<00:00, 1077238.63it/s]\n",
            "Testing '9820': 100%|██████████| 100000/100000 [00:00<00:00, 1042283.22it/s]\n",
            "Testing '9830': 100%|██████████| 100000/100000 [00:00<00:00, 1064166.03it/s]\n",
            "Testing '9840': 100%|██████████| 100000/100000 [00:00<00:00, 944297.25it/s]\n",
            "Testing '9850': 100%|██████████| 100000/100000 [00:00<00:00, 1063998.66it/s]\n",
            "Testing '9860': 100%|██████████| 100000/100000 [00:00<00:00, 1021252.39it/s]\n",
            "Testing '9870': 100%|██████████| 100000/100000 [00:00<00:00, 1001395.26it/s]\n",
            "Testing '9880': 100%|██████████| 100000/100000 [00:00<00:00, 1064098.54it/s]\n",
            "Testing '9890': 100%|██████████| 100000/100000 [00:00<00:00, 1102449.97it/s]\n",
            "Testing '9800': 100%|██████████| 100000/100000 [00:00<00:00, 1105040.82it/s]\n",
            "Testing '9810': 100%|██████████| 100000/100000 [00:00<00:00, 1068745.91it/s]\n",
            "Testing '9820': 100%|██████████| 100000/100000 [00:00<00:00, 1079259.34it/s]\n",
            "Testing '9830': 100%|██████████| 100000/100000 [00:00<00:00, 915305.27it/s]\n",
            "Testing '9840': 100%|██████████| 100000/100000 [00:00<00:00, 1070114.73it/s]\n",
            "Testing '9850': 100%|██████████| 100000/100000 [00:00<00:00, 1036687.78it/s]\n",
            "Testing '9860': 100%|██████████| 100000/100000 [00:00<00:00, 1081876.15it/s]\n",
            "Testing '9870': 100%|██████████| 100000/100000 [00:00<00:00, 1003743.78it/s]\n",
            "Testing '9880': 100%|██████████| 100000/100000 [00:00<00:00, 1085634.12it/s]\n",
            "Testing '9890': 100%|██████████| 100000/100000 [00:00<00:00, 1085103.29it/s]\n",
            "Testing '9800': 100%|██████████| 100000/100000 [00:00<00:00, 1019688.23it/s]\n",
            "Testing '9810': 100%|██████████| 100000/100000 [00:00<00:00, 1093573.83it/s]\n",
            "Testing '9820': 100%|██████████| 100000/100000 [00:00<00:00, 1075846.01it/s]\n",
            "Testing '9830': 100%|██████████| 100000/100000 [00:00<00:00, 986651.30it/s]\n",
            "Testing '9840': 100%|██████████| 100000/100000 [00:00<00:00, 1062139.52it/s]\n",
            "Testing '9850': 100%|██████████| 100000/100000 [00:00<00:00, 1036326.62it/s]\n",
            "Testing '9860': 100%|██████████| 100000/100000 [00:00<00:00, 1069184.53it/s]\n",
            "Testing '9870': 100%|██████████| 100000/100000 [00:00<00:00, 983910.91it/s]\n",
            "Testing '9880': 100%|██████████| 100000/100000 [00:00<00:00, 1063974.37it/s]\n",
            "Testing '9890': 100%|██████████| 100000/100000 [00:00<00:00, 1041708.54it/s]\n"
          ]
        },
        {
          "output_type": "stream",
          "name": "stdout",
          "text": [
            "[7, 7, 1, 7, 7, 8, 7, 7, 7, 7]\n",
            "Most likely digit is: '7'\n",
            "Password so far: '987'\n",
            "\n",
            "--- Attacking Position 4 (prefix: '987') ---\n"
          ]
        },
        {
          "output_type": "stream",
          "name": "stderr",
          "text": [
            "Testing '9870': 100%|██████████| 100000/100000 [00:00<00:00, 1018947.55it/s]\n",
            "Testing '9871': 100%|██████████| 100000/100000 [00:00<00:00, 1016288.51it/s]\n",
            "Testing '9872': 100%|██████████| 100000/100000 [00:00<00:00, 833380.49it/s]\n",
            "Testing '9873': 100%|██████████| 100000/100000 [00:00<00:00, 921401.82it/s]\n",
            "Testing '9874': 100%|██████████| 100000/100000 [00:00<00:00, 998869.74it/s]\n",
            "Testing '9875': 100%|██████████| 100000/100000 [00:00<00:00, 981302.79it/s]\n",
            "Testing '9876': 100%|██████████| 100000/100000 [00:00<00:00, 942879.24it/s]\n",
            "Testing '9877': 100%|██████████| 100000/100000 [00:00<00:00, 1008842.73it/s]\n",
            "Testing '9878': 100%|██████████| 100000/100000 [00:00<00:00, 974178.02it/s]\n",
            "Testing '9879': 100%|██████████| 100000/100000 [00:00<00:00, 1009199.56it/s]\n",
            "Testing '9870': 100%|██████████| 100000/100000 [00:00<00:00, 1026687.03it/s]\n",
            "Testing '9871': 100%|██████████| 100000/100000 [00:00<00:00, 861998.57it/s]\n",
            "Testing '9872': 100%|██████████| 100000/100000 [00:00<00:00, 943021.27it/s]\n",
            "Testing '9873': 100%|██████████| 100000/100000 [00:00<00:00, 999726.85it/s]\n",
            "Testing '9874': 100%|██████████| 100000/100000 [00:00<00:00, 1019487.47it/s]\n",
            "Testing '9875': 100%|██████████| 100000/100000 [00:00<00:00, 821190.42it/s]\n",
            "Testing '9876': 100%|██████████| 100000/100000 [00:00<00:00, 601256.33it/s]\n",
            "Testing '9877': 100%|██████████| 100000/100000 [00:00<00:00, 240141.21it/s]\n",
            "Testing '9878': 100%|██████████| 100000/100000 [00:00<00:00, 541861.94it/s]\n",
            "Testing '9879': 100%|██████████| 100000/100000 [00:00<00:00, 590531.62it/s]\n",
            "Testing '9870': 100%|██████████| 100000/100000 [00:00<00:00, 238273.74it/s]\n",
            "Testing '9871': 100%|██████████| 100000/100000 [00:00<00:00, 544239.13it/s]\n",
            "Testing '9872': 100%|██████████| 100000/100000 [00:00<00:00, 615460.83it/s]\n",
            "Testing '9873': 100%|██████████| 100000/100000 [00:00<00:00, 601090.02it/s]\n",
            "Testing '9874': 100%|██████████| 100000/100000 [00:00<00:00, 277910.56it/s]\n",
            "Testing '9875': 100%|██████████| 100000/100000 [00:00<00:00, 559059.40it/s]\n",
            "Testing '9876': 100%|██████████| 100000/100000 [00:00<00:00, 572250.46it/s]\n",
            "Testing '9877': 100%|██████████| 100000/100000 [00:00<00:00, 865054.65it/s]\n",
            "Testing '9878': 100%|██████████| 100000/100000 [00:00<00:00, 1019430.48it/s]\n",
            "Testing '9879': 100%|██████████| 100000/100000 [00:00<00:00, 1031999.51it/s]\n",
            "Testing '9870': 100%|██████████| 100000/100000 [00:00<00:00, 1015402.79it/s]\n",
            "Testing '9871': 100%|██████████| 100000/100000 [00:00<00:00, 1027456.63it/s]\n",
            "Testing '9872': 100%|██████████| 100000/100000 [00:00<00:00, 965104.14it/s]\n",
            "Testing '9873': 100%|██████████| 100000/100000 [00:00<00:00, 961868.38it/s]\n",
            "Testing '9874': 100%|██████████| 100000/100000 [00:00<00:00, 848033.13it/s]\n",
            "Testing '9875': 100%|██████████| 100000/100000 [00:00<00:00, 1031119.15it/s]\n",
            "Testing '9876': 100%|██████████| 100000/100000 [00:00<00:00, 1011506.80it/s]\n",
            "Testing '9877': 100%|██████████| 100000/100000 [00:00<00:00, 1002795.86it/s]\n",
            "Testing '9878': 100%|██████████| 100000/100000 [00:00<00:00, 1021829.61it/s]\n",
            "Testing '9879': 100%|██████████| 100000/100000 [00:00<00:00, 1021399.12it/s]\n",
            "Testing '9870': 100%|██████████| 100000/100000 [00:00<00:00, 987503.83it/s]\n",
            "Testing '9871': 100%|██████████| 100000/100000 [00:00<00:00, 1001168.18it/s]\n",
            "Testing '9872': 100%|██████████| 100000/100000 [00:00<00:00, 974891.28it/s]\n",
            "Testing '9873': 100%|██████████| 100000/100000 [00:00<00:00, 868094.76it/s]\n",
            "Testing '9874': 100%|██████████| 100000/100000 [00:00<00:00, 1031273.80it/s]\n",
            "Testing '9875': 100%|██████████| 100000/100000 [00:00<00:00, 1028061.04it/s]\n",
            "Testing '9876': 100%|██████████| 100000/100000 [00:00<00:00, 999055.33it/s]\n",
            "Testing '9877': 100%|██████████| 100000/100000 [00:00<00:00, 1016098.94it/s]\n",
            "Testing '9878': 100%|██████████| 100000/100000 [00:00<00:00, 1017896.60it/s]\n",
            "Testing '9879': 100%|██████████| 100000/100000 [00:00<00:00, 884159.85it/s]\n",
            "Testing '9870': 100%|██████████| 100000/100000 [00:00<00:00, 976984.98it/s]\n",
            "Testing '9871': 100%|██████████| 100000/100000 [00:00<00:00, 1004113.84it/s]\n",
            "Testing '9872': 100%|██████████| 100000/100000 [00:00<00:00, 862966.92it/s]\n",
            "Testing '9873': 100%|██████████| 100000/100000 [00:00<00:00, 1003693.34it/s]\n",
            "Testing '9874': 100%|██████████| 100000/100000 [00:00<00:00, 1011767.88it/s]\n",
            "Testing '9875': 100%|██████████| 100000/100000 [00:00<00:00, 1009789.97it/s]\n",
            "Testing '9876': 100%|██████████| 100000/100000 [00:00<00:00, 1006830.30it/s]\n",
            "Testing '9877': 100%|██████████| 100000/100000 [00:00<00:00, 1012033.98it/s]\n",
            "Testing '9878': 100%|██████████| 100000/100000 [00:00<00:00, 943927.48it/s]\n",
            "Testing '9879': 100%|██████████| 100000/100000 [00:00<00:00, 964354.13it/s]\n",
            "Testing '9870': 100%|██████████| 100000/100000 [00:00<00:00, 935825.41it/s]\n",
            "Testing '9871': 100%|██████████| 100000/100000 [00:00<00:00, 817228.75it/s]\n",
            "Testing '9872': 100%|██████████| 100000/100000 [00:00<00:00, 1007258.27it/s]\n",
            "Testing '9873': 100%|██████████| 100000/100000 [00:00<00:00, 978103.63it/s]\n",
            "Testing '9874': 100%|██████████| 100000/100000 [00:00<00:00, 1025457.07it/s]\n",
            "Testing '9875': 100%|██████████| 100000/100000 [00:00<00:00, 999229.07it/s]\n",
            "Testing '9876': 100%|██████████| 100000/100000 [00:00<00:00, 1010091.51it/s]\n",
            "Testing '9877': 100%|██████████| 100000/100000 [00:00<00:00, 948300.35it/s]\n",
            "Testing '9878': 100%|██████████| 100000/100000 [00:00<00:00, 961328.25it/s]\n",
            "Testing '9879': 100%|██████████| 100000/100000 [00:00<00:00, 1001849.73it/s]\n",
            "Testing '9870': 100%|██████████| 100000/100000 [00:00<00:00, 838237.15it/s]\n",
            "Testing '9871': 100%|██████████| 100000/100000 [00:00<00:00, 969590.72it/s]\n",
            "Testing '9872': 100%|██████████| 100000/100000 [00:00<00:00, 960907.60it/s]\n",
            "Testing '9873': 100%|██████████| 100000/100000 [00:00<00:00, 1016492.94it/s]\n",
            "Testing '9874': 100%|██████████| 100000/100000 [00:00<00:00, 981362.48it/s]\n",
            "Testing '9875': 100%|██████████| 100000/100000 [00:00<00:00, 981838.02it/s]\n",
            "Testing '9876': 100%|██████████| 100000/100000 [00:00<00:00, 972865.20it/s]\n",
            "Testing '9877': 100%|██████████| 100000/100000 [00:00<00:00, 931142.62it/s]\n",
            "Testing '9878': 100%|██████████| 100000/100000 [00:00<00:00, 892137.47it/s]\n",
            "Testing '9879': 100%|██████████| 100000/100000 [00:00<00:00, 956609.91it/s]\n",
            "Testing '9870': 100%|██████████| 100000/100000 [00:00<00:00, 979055.70it/s]\n",
            "Testing '9871': 100%|██████████| 100000/100000 [00:00<00:00, 1014099.16it/s]\n",
            "Testing '9872': 100%|██████████| 100000/100000 [00:00<00:00, 1010553.91it/s]\n",
            "Testing '9873': 100%|██████████| 100000/100000 [00:00<00:00, 1007584.93it/s]\n",
            "Testing '9874': 100%|██████████| 100000/100000 [00:00<00:00, 905042.97it/s]\n",
            "Testing '9875': 100%|██████████| 100000/100000 [00:00<00:00, 997596.33it/s]\n",
            "Testing '9876': 100%|██████████| 100000/100000 [00:00<00:00, 952171.06it/s]\n",
            "Testing '9877': 100%|██████████| 100000/100000 [00:00<00:00, 847135.62it/s]\n",
            "Testing '9878': 100%|██████████| 100000/100000 [00:00<00:00, 980809.42it/s]\n",
            "Testing '9879': 100%|██████████| 100000/100000 [00:00<00:00, 957962.34it/s]\n",
            "Testing '9870': 100%|██████████| 100000/100000 [00:00<00:00, 968862.81it/s]\n",
            "Testing '9871': 100%|██████████| 100000/100000 [00:00<00:00, 959022.48it/s]\n",
            "Testing '9872': 100%|██████████| 100000/100000 [00:00<00:00, 929625.74it/s]\n",
            "Testing '9873': 100%|██████████| 100000/100000 [00:00<00:00, 953742.95it/s]\n",
            "Testing '9874': 100%|██████████| 100000/100000 [00:00<00:00, 909533.36it/s]\n",
            "Testing '9875': 100%|██████████| 100000/100000 [00:00<00:00, 974083.00it/s]\n",
            "Testing '9876': 100%|██████████| 100000/100000 [00:00<00:00, 818078.34it/s]\n",
            "Testing '9877': 100%|██████████| 100000/100000 [00:00<00:00, 945076.00it/s]\n",
            "Testing '9878': 100%|██████████| 100000/100000 [00:00<00:00, 964345.26it/s]\n",
            "Testing '9879': 100%|██████████| 100000/100000 [00:00<00:00, 997938.12it/s]"
          ]
        },
        {
          "output_type": "stream",
          "name": "stdout",
          "text": [
            "[2, 9, 3, 4, 3, 2, 1, 0, 7, 6]\n",
            "Most likely digit is: '2'\n",
            "Password so far: '9872'\n",
            "\n",
            "--- ATTACK SUCCESSFUL ---\n",
            "The guessed password is: '9872'\n",
            "The actual password is: '9875'\n"
          ]
        },
        {
          "output_type": "stream",
          "name": "stderr",
          "text": [
            "\n"
          ]
        }
      ]
    },
    {
      "cell_type": "code",
      "source": [
        "# Implementation for 41 runs\n",
        "def find_next_digit(prefix, num_trials, password_len):\n",
        "    \"\"\"\n",
        "    Runs a simulation to find the next correct digit given a prefix.\n",
        "    Returns the most likely digit based on the meta-experiment.\n",
        "    \"\"\"\n",
        "    all_guesses = []\n",
        "    NUM_META_RUNS = 1 # Number of times to repeat the experiment\n",
        "\n",
        "    print(f\"\\n--- Attacking Position {len(prefix) + 1} (prefix: '{prefix}') ---\")\n",
        "\n",
        "    for i in range(NUM_META_RUNS):\n",
        "        median_times = {}\n",
        "        for guess_digit in range(10):\n",
        "            # Construct the key: use the found prefix, the current guess, and pad the rest with '0'\n",
        "            test_key = prefix + str(guess_digit) + \"0\" * (password_len - (len(prefix) + 1))\n",
        "\n",
        "            trial_times = []\n",
        "            for _ in tqdm(range(num_trials), desc=f\"Testing '{test_key}'\"):\n",
        "                start_time = time.perf_counter_ns()\n",
        "                unlock(test_key)\n",
        "                end_time = time.perf_counter_ns()\n",
        "                trial_times.append(end_time - start_time)\n",
        "\n",
        "            median_times[guess_digit] = np.median(trial_times)\n",
        "\n",
        "        # Find the key with the highest median time for this single run\n",
        "        most_likely_digit = max(median_times, key=median_times.get)\n",
        "        all_guesses.append(most_likely_digit)\n",
        "\n",
        "    # Use Counter to find the most frequent guess across all meta-runs\n",
        "    guess_counts = Counter(all_guesses)\n",
        "    final_guess = guess_counts.most_common(1)[0][0]\n",
        "\n",
        "    print(f\"Meta-experiment results for position {len(prefix) + 1}: {guess_counts}\")\n",
        "    print(f\"Most likely digit is: '{final_guess}'\")\n",
        "\n",
        "    return str(final_guess)\n",
        "\n",
        "# 3. The main orchestration for the full attack\n",
        "def find_full_password(password_to_crack, num_trials_per_run):\n",
        "    found_password = \"\"\n",
        "    password_len = len(password_to_crack)\n",
        "\n",
        "    print(\"Beginning timing side-channel attack to find the full password...\")\n",
        "\n",
        "    for _ in range(password_len):\n",
        "        next_digit = find_next_digit(found_password, num_trials_per_run, password_len)\n",
        "        found_password += next_digit\n",
        "        print(f\"Password so far: '{found_password}'\")\n",
        "\n",
        "    return found_password\n",
        "\n",
        "# Execute the full attack\n",
        "if __name__ == \"__main__\":\n",
        "    NUM_TRIALS_PER_RUN = 41 # A reasonable number for demonstration\n",
        "    guessed_password = find_full_password(password, NUM_TRIALS_PER_RUN)\n",
        "\n",
        "    # print(\"\\n--- ATTACK SUCCESSFUL ---\")\n",
        "    print(f\"The guessed password is: '{guessed_password}'\")\n",
        "    print(f\"The actual password is: '{password}'\")"
      ],
      "metadata": {
        "colab": {
          "base_uri": "https://localhost:8080/"
        },
        "id": "CrNNaPPK8PFV",
        "outputId": "9b7c1553-0f47-4d67-8b5d-52cc4efc5743"
      },
      "execution_count": 9,
      "outputs": [
        {
          "output_type": "stream",
          "name": "stdout",
          "text": [
            "Beginning timing side-channel attack to find the full password...\n",
            "\n",
            "--- Attacking Position 1 (prefix: '') ---\n"
          ]
        },
        {
          "output_type": "stream",
          "name": "stderr",
          "text": [
            "Testing '0000': 100%|██████████| 41/41 [00:00<00:00, 203270.05it/s]\n",
            "Testing '1000': 100%|██████████| 41/41 [00:00<00:00, 208191.85it/s]\n",
            "Testing '2000': 100%|██████████| 41/41 [00:00<00:00, 187531.59it/s]\n",
            "Testing '3000': 100%|██████████| 41/41 [00:00<00:00, 524288.00it/s]\n",
            "Testing '4000': 100%|██████████| 41/41 [00:00<00:00, 424608.55it/s]\n",
            "Testing '5000': 100%|██████████| 41/41 [00:00<00:00, 499902.51it/s]\n",
            "Testing '6000': 100%|██████████| 41/41 [00:00<00:00, 516415.81it/s]\n",
            "Testing '7000': 100%|██████████| 41/41 [00:00<00:00, 398070.52it/s]\n",
            "Testing '8000': 100%|██████████| 41/41 [00:00<00:00, 527504.49it/s]\n",
            "Testing '9000': 100%|██████████| 41/41 [00:00<00:00, 389946.63it/s]\n"
          ]
        },
        {
          "output_type": "stream",
          "name": "stdout",
          "text": [
            "Meta-experiment results for position 1: Counter({0: 1})\n",
            "Most likely digit is: '0'\n",
            "Password so far: '0'\n",
            "\n",
            "--- Attacking Position 2 (prefix: '0') ---\n"
          ]
        },
        {
          "output_type": "stream",
          "name": "stderr",
          "text": [
            "Testing '0000': 100%|██████████| 41/41 [00:00<00:00, 521110.50it/s]\n",
            "Testing '0100': 100%|██████████| 41/41 [00:00<00:00, 537395.20it/s]\n",
            "Testing '0200': 100%|██████████| 41/41 [00:00<00:00, 590950.05it/s]\n",
            "Testing '0300': 100%|██████████| 41/41 [00:00<00:00, 504300.48it/s]\n",
            "Testing '0400': 100%|██████████| 41/41 [00:00<00:00, 516415.81it/s]\n",
            "Testing '0500': 100%|██████████| 41/41 [00:00<00:00, 494156.51it/s]\n",
            "Testing '0600': 100%|██████████| 41/41 [00:00<00:00, 519536.15it/s]\n",
            "Testing '0700': 100%|██████████| 41/41 [00:00<00:00, 181017.33it/s]\n",
            "Testing '0800': 100%|██████████| 41/41 [00:00<00:00, 469853.73it/s]\n",
            "Testing '0900': 100%|██████████| 41/41 [00:00<00:00, 397151.19it/s]\n"
          ]
        },
        {
          "output_type": "stream",
          "name": "stdout",
          "text": [
            "Meta-experiment results for position 2: Counter({5: 1})\n",
            "Most likely digit is: '5'\n",
            "Password so far: '05'\n",
            "\n",
            "--- Attacking Position 3 (prefix: '05') ---\n"
          ]
        },
        {
          "output_type": "stream",
          "name": "stderr",
          "text": [
            "Testing '0500': 100%|██████████| 41/41 [00:00<00:00, 552946.83it/s]\n",
            "Testing '0510': 100%|██████████| 41/41 [00:00<00:00, 157047.00it/s]\n",
            "Testing '0520': 100%|██████████| 41/41 [00:00<00:00, 516415.81it/s]\n",
            "Testing '0530': 100%|██████████| 41/41 [00:00<00:00, 537395.20it/s]\n",
            "Testing '0540': 100%|██████████| 41/41 [00:00<00:00, 547663.90it/s]\n",
            "Testing '0550': 100%|██████████| 41/41 [00:00<00:00, 522694.42it/s]\n",
            "Testing '0560': 100%|██████████| 41/41 [00:00<00:00, 529127.58it/s]\n",
            "Testing '0570': 100%|██████████| 41/41 [00:00<00:00, 453737.37it/s]\n",
            "Testing '0580': 100%|██████████| 41/41 [00:00<00:00, 289505.83it/s]\n",
            "Testing '0590': 100%|██████████| 41/41 [00:00<00:00, 389064.40it/s]\n"
          ]
        },
        {
          "output_type": "stream",
          "name": "stdout",
          "text": [
            "Meta-experiment results for position 3: Counter({3: 1})\n",
            "Most likely digit is: '3'\n",
            "Password so far: '053'\n",
            "\n",
            "--- Attacking Position 4 (prefix: '053') ---\n"
          ]
        },
        {
          "output_type": "stream",
          "name": "stderr",
          "text": [
            "Testing '0530': 100%|██████████| 41/41 [00:00<00:00, 554730.53it/s]\n",
            "Testing '0531': 100%|██████████| 41/41 [00:00<00:00, 537395.20it/s]\n",
            "Testing '0532': 100%|██████████| 41/41 [00:00<00:00, 582937.17it/s]\n",
            "Testing '0533': 100%|██████████| 41/41 [00:00<00:00, 477684.62it/s]\n",
            "Testing '0534': 100%|██████████| 41/41 [00:00<00:00, 435358.14it/s]\n",
            "Testing '0535': 100%|██████████| 41/41 [00:00<00:00, 498453.52it/s]\n",
            "Testing '0536': 100%|██████████| 41/41 [00:00<00:00, 575138.68it/s]\n",
            "Testing '0537': 100%|██████████| 41/41 [00:00<00:00, 432076.54it/s]\n",
            "Testing '0538': 100%|██████████| 41/41 [00:00<00:00, 413380.92it/s]\n",
            "Testing '0539': 100%|██████████| 41/41 [00:00<00:00, 464774.23it/s]"
          ]
        },
        {
          "output_type": "stream",
          "name": "stdout",
          "text": [
            "Meta-experiment results for position 4: Counter({3: 1})\n",
            "Most likely digit is: '3'\n",
            "Password so far: '0533'\n",
            "The guessed password is: '0533'\n",
            "The actual password is: '9875'\n"
          ]
        },
        {
          "output_type": "stream",
          "name": "stderr",
          "text": [
            "\n"
          ]
        }
      ]
    }
  ]
}